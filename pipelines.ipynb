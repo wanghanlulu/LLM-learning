{
 "cells": [
  {
   "cell_type": "code",
   "execution_count": 2,
   "id": "c0d2e57f-ed8c-4cc8-83df-b96c6b0a9b91",
   "metadata": {
    "ExecutionIndicator": {
     "show": true
    },
    "execution": {
     "iopub.execute_input": "2024-01-22T04:10:10.819721Z",
     "iopub.status.busy": "2024-01-22T04:10:10.818783Z",
     "iopub.status.idle": "2024-01-22T04:10:10.823010Z",
     "shell.execute_reply": "2024-01-22T04:10:10.822328Z",
     "shell.execute_reply.started": "2024-01-22T04:10:10.819687Z"
    },
    "tags": []
   },
   "outputs": [],
   "source": [
    "import os\n",
    "os.environ['HF_ENDPOINT'] = 'https://hf-mirror.com'\n",
    "from transformers import pipeline"
   ]
  },
  {
   "cell_type": "markdown",
   "id": "e498f2d4-28c0-42c8-b326-59913e531e4a",
   "metadata": {},
   "source": [
    "## Text classification：sentiment-analysis"
   ]
  },
  {
   "cell_type": "code",
   "execution_count": 1,
   "id": "b2b6ebb1-4d3b-433c-b977-832747dfb388",
   "metadata": {
    "ExecutionIndicator": {
     "show": false
    },
    "execution": {
     "iopub.execute_input": "2024-01-17T02:44:43.373301Z",
     "iopub.status.busy": "2024-01-17T02:44:43.372621Z",
     "iopub.status.idle": "2024-01-17T02:44:52.230933Z",
     "shell.execute_reply": "2024-01-17T02:44:52.230131Z",
     "shell.execute_reply.started": "2024-01-17T02:44:43.373264Z"
    },
    "tags": []
   },
   "outputs": [
    {
     "name": "stderr",
     "output_type": "stream",
     "text": [
      "/opt/conda/envs/transf/lib/python3.11/site-packages/tqdm/auto.py:21: TqdmWarning: IProgress not found. Please update jupyter and ipywidgets. See https://ipywidgets.readthedocs.io/en/stable/user_install.html\n",
      "  from .autonotebook import tqdm as notebook_tqdm\n",
      "2024-01-17 10:44:47.832041: I tensorflow/core/platform/cpu_feature_guard.cc:182] This TensorFlow binary is optimized to use available CPU instructions in performance-critical operations.\n",
      "To enable the following instructions: SSE4.1 SSE4.2 AVX AVX2 AVX512F FMA, in other operations, rebuild TensorFlow with the appropriate compiler flags.\n"
     ]
    },
    {
     "data": {
      "text/plain": [
       "[{'label': 'NEGATIVE', 'score': 0.8957212567329407}]"
      ]
     },
     "execution_count": 1,
     "metadata": {},
     "output_type": "execute_result"
    }
   ],
   "source": [
    "pipe = pipeline(\"sentiment-analysis\",model=\"/mnt/workspace/distilbert-base-uncased-finetuned-sst-2-english\")\n",
    "pipe(\"今儿上海可真冷啊\")"
   ]
  },
  {
   "cell_type": "code",
   "execution_count": 3,
   "id": "c2ab6c2c-494b-4ce8-8bbe-bba9d6222e48",
   "metadata": {
    "execution": {
     "iopub.execute_input": "2024-01-17T02:45:31.113325Z",
     "iopub.status.busy": "2024-01-17T02:45:31.112880Z",
     "iopub.status.idle": "2024-01-17T02:45:31.167415Z",
     "shell.execute_reply": "2024-01-17T02:45:31.166692Z",
     "shell.execute_reply.started": "2024-01-17T02:45:31.113295Z"
    },
    "tags": []
   },
   "outputs": [
    {
     "data": {
      "text/plain": [
       "[{'label': 'NEGATIVE', 'score': 0.9238728880882263}]"
      ]
     },
     "execution_count": 3,
     "metadata": {},
     "output_type": "execute_result"
    }
   ],
   "source": [
    "pipe(\"我觉得这家店蒜泥白肉的味道一般\")"
   ]
  },
  {
   "cell_type": "code",
   "execution_count": 4,
   "id": "40ff1063-b682-4043-8be8-97706e11c4ed",
   "metadata": {
    "execution": {
     "iopub.execute_input": "2024-01-17T02:45:34.647964Z",
     "iopub.status.busy": "2024-01-17T02:45:34.647265Z",
     "iopub.status.idle": "2024-01-17T02:45:34.702324Z",
     "shell.execute_reply": "2024-01-17T02:45:34.701649Z",
     "shell.execute_reply.started": "2024-01-17T02:45:34.647935Z"
    },
    "tags": []
   },
   "outputs": [
    {
     "data": {
      "text/plain": [
       "[{'label': 'NEGATIVE', 'score': 0.8578683137893677}]"
      ]
     },
     "execution_count": 4,
     "metadata": {},
     "output_type": "execute_result"
    }
   ],
   "source": [
    "pipe(\"你学东西真的好快，理论课一讲就明白了\")"
   ]
  },
  {
   "cell_type": "code",
   "execution_count": 6,
   "id": "983baf28-4263-4dfc-b435-7fe892ff2263",
   "metadata": {
    "ExecutionIndicator": {
     "show": false
    },
    "execution": {
     "iopub.execute_input": "2024-01-17T02:46:24.813733Z",
     "iopub.status.busy": "2024-01-17T02:46:24.812997Z",
     "iopub.status.idle": "2024-01-17T02:46:26.322719Z",
     "shell.execute_reply": "2024-01-17T02:46:26.321860Z",
     "shell.execute_reply.started": "2024-01-17T02:46:24.813701Z"
    },
    "tags": []
   },
   "outputs": [
    {
     "data": {
      "text/plain": [
       "[{'label': 'culture', 'score': 0.7537044286727905}]"
      ]
     },
     "execution_count": 6,
     "metadata": {},
     "output_type": "execute_result"
    }
   ],
   "source": [
    "#  5 Chinese RoBERTa-Base classification models\n",
    "# culture，entertainment，sports，Hong Kong - Macau politics，financial news，mainland China politics，International news\n",
    "pipe2 = pipeline(\"sentiment-analysis\",model=\"/mnt/workspace/roberta-base-finetuned-chinanews-chinese\")\n",
    "pipe2(\"你学东西真的好快，理论课一讲就明白了\")"
   ]
  },
  {
   "cell_type": "code",
   "execution_count": 7,
   "id": "f97c458f-30c5-4c05-ae9b-26ebeaeadcb5",
   "metadata": {
    "execution": {
     "iopub.execute_input": "2024-01-17T02:47:09.349686Z",
     "iopub.status.busy": "2024-01-17T02:47:09.349297Z",
     "iopub.status.idle": "2024-01-17T02:47:09.456139Z",
     "shell.execute_reply": "2024-01-17T02:47:09.455461Z",
     "shell.execute_reply.started": "2024-01-17T02:47:09.349659Z"
    },
    "tags": []
   },
   "outputs": [
    {
     "data": {
      "text/plain": [
       "[{'label': 'culture', 'score': 0.5978748798370361}]"
      ]
     },
     "execution_count": 7,
     "metadata": {},
     "output_type": "execute_result"
    }
   ],
   "source": [
    "pipe2(\"我觉得这家店蒜泥白肉的味道一般\")"
   ]
  },
  {
   "cell_type": "code",
   "execution_count": 8,
   "id": "815b8166-931a-4389-b02e-2b3d46b80edf",
   "metadata": {
    "execution": {
     "iopub.execute_input": "2024-01-17T02:47:28.181536Z",
     "iopub.status.busy": "2024-01-17T02:47:28.180931Z",
     "iopub.status.idle": "2024-01-17T02:47:28.252512Z",
     "shell.execute_reply": "2024-01-17T02:47:28.251815Z",
     "shell.execute_reply.started": "2024-01-17T02:47:28.181504Z"
    },
    "tags": []
   },
   "outputs": [
    {
     "data": {
      "text/plain": [
       "[{'label': 'mainland China politics', 'score': 0.9379563331604004}]"
      ]
     },
     "execution_count": 8,
     "metadata": {},
     "output_type": "execute_result"
    }
   ],
   "source": [
    "pipe2(\"今儿上海可真冷啊\")"
   ]
  },
  {
   "cell_type": "code",
   "execution_count": 9,
   "id": "b93eb316-334b-48b7-b4bb-95c1e862f19c",
   "metadata": {
    "execution": {
     "iopub.execute_input": "2024-01-17T02:47:47.670290Z",
     "iopub.status.busy": "2024-01-17T02:47:47.669884Z",
     "iopub.status.idle": "2024-01-17T02:47:47.787033Z",
     "shell.execute_reply": "2024-01-17T02:47:47.786102Z",
     "shell.execute_reply.started": "2024-01-17T02:47:47.670261Z"
    },
    "tags": []
   },
   "outputs": [
    {
     "data": {
      "text/plain": [
       "[{'label': 'culture', 'score': 0.5638594031333923}]"
      ]
     },
     "execution_count": 9,
     "metadata": {},
     "output_type": "execute_result"
    }
   ],
   "source": [
    "pipe2(\"You learn things really quickly. You understand the theory class as soon as it is taught.\")"
   ]
  },
  {
   "cell_type": "code",
   "execution_count": 10,
   "id": "695f78e6-0627-4491-b811-279b75ce7da2",
   "metadata": {
    "execution": {
     "iopub.execute_input": "2024-01-17T02:47:50.670275Z",
     "iopub.status.busy": "2024-01-17T02:47:50.669550Z",
     "iopub.status.idle": "2024-01-17T02:47:50.725728Z",
     "shell.execute_reply": "2024-01-17T02:47:50.725019Z",
     "shell.execute_reply.started": "2024-01-17T02:47:50.670243Z"
    },
    "tags": []
   },
   "outputs": [
    {
     "data": {
      "text/plain": [
       "[{'label': 'POSITIVE', 'score': 0.9961802959442139}]"
      ]
     },
     "execution_count": 10,
     "metadata": {},
     "output_type": "execute_result"
    }
   ],
   "source": [
    "pipe(\"You learn things really quickly. You understand the theory class as soon as it is taught.\")"
   ]
  },
  {
   "cell_type": "code",
   "execution_count": 11,
   "id": "1b7fd257-cb5a-41f3-b97a-40fd22e47283",
   "metadata": {
    "execution": {
     "iopub.execute_input": "2024-01-17T02:48:10.671002Z",
     "iopub.status.busy": "2024-01-17T02:48:10.670598Z",
     "iopub.status.idle": "2024-01-17T02:48:10.744188Z",
     "shell.execute_reply": "2024-01-17T02:48:10.743494Z",
     "shell.execute_reply.started": "2024-01-17T02:48:10.670964Z"
    },
    "tags": []
   },
   "outputs": [
    {
     "data": {
      "text/plain": [
       "[{'label': 'culture', 'score': 0.5475276112556458}]"
      ]
     },
     "execution_count": 11,
     "metadata": {},
     "output_type": "execute_result"
    }
   ],
   "source": [
    "pipe2(\"Today Shanghai is really cold.\")"
   ]
  },
  {
   "cell_type": "code",
   "execution_count": 12,
   "id": "0fd5e8c5-89c9-43db-b263-b07e8379c293",
   "metadata": {
    "execution": {
     "iopub.execute_input": "2024-01-17T02:48:15.035251Z",
     "iopub.status.busy": "2024-01-17T02:48:15.034557Z",
     "iopub.status.idle": "2024-01-17T02:48:15.071167Z",
     "shell.execute_reply": "2024-01-17T02:48:15.070433Z",
     "shell.execute_reply.started": "2024-01-17T02:48:15.035223Z"
    },
    "tags": []
   },
   "outputs": [
    {
     "data": {
      "text/plain": [
       "[{'label': 'NEGATIVE', 'score': 0.9995032548904419}]"
      ]
     },
     "execution_count": 12,
     "metadata": {},
     "output_type": "execute_result"
    }
   ],
   "source": [
    "pipe(\"Today Shanghai is really cold.\")"
   ]
  },
  {
   "cell_type": "code",
   "execution_count": 14,
   "id": "63b74edf-b7d2-4784-88a2-b8e3fb5303cc",
   "metadata": {
    "execution": {
     "iopub.execute_input": "2024-01-17T02:56:50.729839Z",
     "iopub.status.busy": "2024-01-17T02:56:50.729130Z",
     "iopub.status.idle": "2024-01-17T02:56:50.830570Z",
     "shell.execute_reply": "2024-01-17T02:56:50.829880Z",
     "shell.execute_reply.started": "2024-01-17T02:56:50.729815Z"
    },
    "tags": []
   },
   "outputs": [
    {
     "data": {
      "text/plain": [
       "[{'label': 'NEGATIVE', 'score': 0.9995032548904419},\n",
       " {'label': 'NEGATIVE', 'score': 0.9984821677207947},\n",
       " {'label': 'POSITIVE', 'score': 0.9961802959442139}]"
      ]
     },
     "execution_count": 14,
     "metadata": {},
     "output_type": "execute_result"
    }
   ],
   "source": [
    "text_list = [\n",
    "    \"Today Shanghai is really cold.\",\n",
    "    \"I think the taste of the garlic mashed pork in this store is average.\",\n",
    "    \"You learn things really quickly. You understand the theory class as soon as it is taught.\"\n",
    "]\n",
    "\n",
    "pipe(text_list)"
   ]
  },
  {
   "cell_type": "code",
   "execution_count": 15,
   "id": "09f4045b-0828-4084-9016-39eff7e7381d",
   "metadata": {
    "execution": {
     "iopub.execute_input": "2024-01-17T02:57:00.313858Z",
     "iopub.status.busy": "2024-01-17T02:57:00.313474Z",
     "iopub.status.idle": "2024-01-17T02:57:00.603859Z",
     "shell.execute_reply": "2024-01-17T02:57:00.602911Z",
     "shell.execute_reply.started": "2024-01-17T02:57:00.313834Z"
    },
    "tags": []
   },
   "outputs": [
    {
     "data": {
      "text/plain": [
       "[{'label': 'culture', 'score': 0.5475276112556458},\n",
       " {'label': 'financial news', 'score': 0.6780482530593872},\n",
       " {'label': 'culture', 'score': 0.5638594031333923}]"
      ]
     },
     "execution_count": 15,
     "metadata": {},
     "output_type": "execute_result"
    }
   ],
   "source": [
    "pipe2(text_list)"
   ]
  },
  {
   "cell_type": "markdown",
   "id": "2f001b1a-1d10-412c-9d91-bed3558c267c",
   "metadata": {},
   "source": [
    "## Token Classification：ner"
   ]
  },
  {
   "cell_type": "code",
   "execution_count": 47,
   "id": "20c60ff6-c42a-4803-9d6e-b9d6d24185d2",
   "metadata": {
    "ExecutionIndicator": {
     "show": true
    },
    "execution": {
     "iopub.execute_input": "2024-01-17T04:01:42.037072Z",
     "iopub.status.busy": "2024-01-17T04:01:42.036297Z",
     "iopub.status.idle": "2024-01-17T04:01:42.191320Z",
     "shell.execute_reply": "2024-01-17T04:01:42.190668Z",
     "shell.execute_reply.started": "2024-01-17T04:01:42.037044Z"
    },
    "tags": []
   },
   "outputs": [],
   "source": [
    "classifier = pipeline(task=\"ner\",model=\"/mnt/workspace/bert4ner-base-chinese\")"
   ]
  },
  {
   "cell_type": "code",
   "execution_count": 49,
   "id": "e383fc92-c751-4c70-bd31-e178e9b0f0e2",
   "metadata": {
    "ExecutionIndicator": {
     "show": true
    },
    "execution": {
     "iopub.execute_input": "2024-01-17T04:01:53.710500Z",
     "iopub.status.busy": "2024-01-17T04:01:53.709792Z",
     "iopub.status.idle": "2024-01-17T04:01:53.763934Z",
     "shell.execute_reply": "2024-01-17T04:01:53.763227Z",
     "shell.execute_reply.started": "2024-01-17T04:01:53.710475Z"
    },
    "tags": []
   },
   "outputs": [
    {
     "name": "stdout",
     "output_type": "stream",
     "text": [
      "{'entity': 'LABEL_2', 'score': 0.9979, 'index': 1, 'word': 'Hugging', 'start': 0, 'end': 7}\n",
      "{'entity': 'LABEL_2', 'score': 0.9987, 'index': 2, 'word': 'Face', 'start': 8, 'end': 12}\n",
      "{'entity': 'LABEL_2', 'score': 0.9994, 'index': 3, 'word': 'is', 'start': 13, 'end': 15}\n",
      "{'entity': 'LABEL_2', 'score': 0.9994, 'index': 4, 'word': 'a', 'start': 16, 'end': 17}\n",
      "{'entity': 'LABEL_2', 'score': 0.9953, 'index': 5, 'word': 'French', 'start': 18, 'end': 24}\n",
      "{'entity': 'LABEL_2', 'score': 0.9972, 'index': 6, 'word': 'company', 'start': 25, 'end': 32}\n",
      "{'entity': 'LABEL_2', 'score': 0.9994, 'index': 7, 'word': 'base', 'start': 33, 'end': 37}\n",
      "{'entity': 'LABEL_2', 'score': 0.9997, 'index': 8, 'word': '##d', 'start': 37, 'end': 38}\n",
      "{'entity': 'LABEL_2', 'score': 0.9997, 'index': 9, 'word': 'in', 'start': 39, 'end': 41}\n",
      "{'entity': 'LABEL_2', 'score': 0.9972, 'index': 10, 'word': 'New', 'start': 42, 'end': 45}\n",
      "{'entity': 'LABEL_2', 'score': 0.9981, 'index': 11, 'word': 'York', 'start': 46, 'end': 50}\n",
      "{'entity': 'LABEL_2', 'score': 0.9989, 'index': 12, 'word': 'City', 'start': 51, 'end': 55}\n",
      "{'entity': 'LABEL_2', 'score': 0.9995, 'index': 13, 'word': '.', 'start': 55, 'end': 56}\n"
     ]
    }
   ],
   "source": [
    "preds = classifier(\"Hugging Face is a French company based in New York City.\")\n",
    "preds = [\n",
    "    {\n",
    "        \"entity\": pred[\"entity\"],\n",
    "        \"score\": round(pred[\"score\"], 4),\n",
    "        \"index\": pred[\"index\"],\n",
    "        \"word\": pred[\"word\"],\n",
    "        \"start\": pred[\"start\"],\n",
    "        \"end\": pred[\"end\"],\n",
    "    }\n",
    "    for pred in preds\n",
    "]\n",
    "print(*preds, sep=\"\\n\")"
   ]
  },
  {
   "cell_type": "code",
   "execution_count": 50,
   "id": "c2287dd5-2d56-4f2d-8927-60d5674b9e1a",
   "metadata": {
    "ExecutionIndicator": {
     "show": true
    },
    "execution": {
     "iopub.execute_input": "2024-01-17T04:01:59.541808Z",
     "iopub.status.busy": "2024-01-17T04:01:59.541229Z",
     "iopub.status.idle": "2024-01-17T04:01:59.751511Z",
     "shell.execute_reply": "2024-01-17T04:01:59.750627Z",
     "shell.execute_reply.started": "2024-01-17T04:01:59.541783Z"
    },
    "tags": []
   },
   "outputs": [
    {
     "name": "stdout",
     "output_type": "stream",
     "text": [
      "{'entity': 'LABEL_8', 'score': 0.9998, 'index': 1, 'word': '王', 'start': 0, 'end': 1}\n",
      "{'entity': 'LABEL_5', 'score': 0.9997, 'index': 2, 'word': '宏', 'start': 1, 'end': 2}\n",
      "{'entity': 'LABEL_5', 'score': 0.9999, 'index': 3, 'word': '伟', 'start': 2, 'end': 3}\n",
      "{'entity': 'LABEL_2', 'score': 1.0, 'index': 4, 'word': '来', 'start': 3, 'end': 4}\n",
      "{'entity': 'LABEL_2', 'score': 1.0, 'index': 5, 'word': '自', 'start': 4, 'end': 5}\n",
      "{'entity': 'LABEL_1', 'score': 0.9997, 'index': 6, 'word': '北', 'start': 5, 'end': 6}\n",
      "{'entity': 'LABEL_4', 'score': 0.9996, 'index': 7, 'word': '京', 'start': 6, 'end': 7}\n",
      "{'entity': 'LABEL_2', 'score': 1.0, 'index': 8, 'word': '，', 'start': 7, 'end': 8}\n",
      "{'entity': 'LABEL_2', 'score': 1.0, 'index': 9, 'word': '是', 'start': 8, 'end': 9}\n",
      "{'entity': 'LABEL_2', 'score': 1.0, 'index': 10, 'word': '个', 'start': 9, 'end': 10}\n",
      "{'entity': 'LABEL_2', 'score': 1.0, 'index': 11, 'word': '警', 'start': 10, 'end': 11}\n",
      "{'entity': 'LABEL_2', 'score': 1.0, 'index': 12, 'word': '察', 'start': 11, 'end': 12}\n",
      "{'entity': 'LABEL_2', 'score': 1.0, 'index': 13, 'word': '，', 'start': 12, 'end': 13}\n",
      "{'entity': 'LABEL_2', 'score': 1.0, 'index': 14, 'word': '喜', 'start': 13, 'end': 14}\n",
      "{'entity': 'LABEL_2', 'score': 1.0, 'index': 15, 'word': '欢', 'start': 14, 'end': 15}\n",
      "{'entity': 'LABEL_2', 'score': 1.0, 'index': 16, 'word': '去', 'start': 15, 'end': 16}\n",
      "{'entity': 'LABEL_1', 'score': 0.9963, 'index': 17, 'word': '王', 'start': 16, 'end': 17}\n",
      "{'entity': 'LABEL_4', 'score': 0.9953, 'index': 18, 'word': '府', 'start': 17, 'end': 18}\n",
      "{'entity': 'LABEL_4', 'score': 0.9948, 'index': 19, 'word': '井', 'start': 18, 'end': 19}\n",
      "{'entity': 'LABEL_2', 'score': 0.9999, 'index': 20, 'word': '游', 'start': 19, 'end': 20}\n",
      "{'entity': 'LABEL_2', 'score': 1.0, 'index': 21, 'word': '玩', 'start': 20, 'end': 21}\n",
      "{'entity': 'LABEL_2', 'score': 1.0, 'index': 22, 'word': '儿', 'start': 21, 'end': 22}\n",
      "{'entity': 'LABEL_2', 'score': 1.0, 'index': 23, 'word': '。', 'start': 22, 'end': 23}\n"
     ]
    }
   ],
   "source": [
    "classifier = pipeline(task=\"ner\",model=\"/mnt/workspace/bert4ner-base-chinese\")\n",
    "preds=classifier(\"王宏伟来自北京，是个警察，喜欢去王府井游玩儿。\")\n",
    "preds = [\n",
    "    {\n",
    "        \"entity\": pred[\"entity\"],\n",
    "        \"score\": round(pred[\"score\"], 4),\n",
    "        \"index\": pred[\"index\"],\n",
    "        \"word\": pred[\"word\"],\n",
    "        \"start\": pred[\"start\"],\n",
    "        \"end\": pred[\"end\"],\n",
    "    }\n",
    "    for pred in preds\n",
    "]\n",
    "print(*preds, sep=\"\\n\")"
   ]
  },
  {
   "cell_type": "code",
   "execution_count": 52,
   "id": "2344af87-3af3-47c8-8362-247bb408796e",
   "metadata": {
    "ExecutionIndicator": {
     "show": true
    },
    "execution": {
     "iopub.execute_input": "2024-01-17T04:02:24.592138Z",
     "iopub.status.busy": "2024-01-17T04:02:24.591409Z",
     "iopub.status.idle": "2024-01-17T04:02:24.817768Z",
     "shell.execute_reply": "2024-01-17T04:02:24.817107Z",
     "shell.execute_reply.started": "2024-01-17T04:02:24.592106Z"
    },
    "tags": []
   },
   "outputs": [
    {
     "data": {
      "text/plain": [
       "[{'entity_group': 'LABEL_2',\n",
       "  'score': 0.99849296,\n",
       "  'word': 'Hugging Face is a French company based in New York City.',\n",
       "  'start': 0,\n",
       "  'end': 56}]"
      ]
     },
     "execution_count": 52,
     "metadata": {},
     "output_type": "execute_result"
    }
   ],
   "source": [
    "classifier = pipeline(task=\"ner\", grouped_entities=True, model=\"/mnt/workspace/bert4ner-base-chinese\")\n",
    "preds = classifier(\"Hugging Face is a French company based in New York City.\")\n",
    "preds "
   ]
  },
  {
   "cell_type": "code",
   "execution_count": 54,
   "id": "0161d7a8-1ba4-4a15-a13a-1252b70b6efc",
   "metadata": {
    "ExecutionIndicator": {
     "show": true
    },
    "execution": {
     "iopub.execute_input": "2024-01-17T04:03:37.144486Z",
     "iopub.status.busy": "2024-01-17T04:03:37.144105Z",
     "iopub.status.idle": "2024-01-17T04:03:37.271373Z",
     "shell.execute_reply": "2024-01-17T04:03:37.270524Z",
     "shell.execute_reply.started": "2024-01-17T04:03:37.144460Z"
    },
    "tags": []
   },
   "outputs": [
    {
     "name": "stdout",
     "output_type": "stream",
     "text": [
      "{'entity_group': 'LABEL_3', 'score': 0.9844, 'word': '阿', 'start': 0, 'end': 1}\n",
      "{'entity_group': 'LABEL_0', 'score': 0.9895, 'word': '里 巴 巴', 'start': 1, 'end': 4}\n",
      "{'entity_group': 'LABEL_2', 'score': 1.0, 'word': '是 一 个', 'start': 4, 'end': 7}\n",
      "{'entity_group': 'LABEL_1', 'score': 0.9997, 'word': '中', 'start': 7, 'end': 8}\n",
      "{'entity_group': 'LABEL_4', 'score': 0.9994, 'word': '国', 'start': 8, 'end': 9}\n",
      "{'entity_group': 'LABEL_2', 'score': 0.9999, 'word': '的 企 业 ， 位 于', 'start': 9, 'end': 15}\n",
      "{'entity_group': 'LABEL_1', 'score': 0.9988, 'word': '杭', 'start': 15, 'end': 16}\n",
      "{'entity_group': 'LABEL_4', 'score': 0.9984, 'word': '州', 'start': 16, 'end': 17}\n",
      "{'entity_group': 'LABEL_2', 'score': 0.968, 'word': '； 他 的 旗 下 有 很 多 子 公 司 ， 例 如 ， 淘 宝 ， 天 猫 ，', 'start': 17, 'end': 38}\n",
      "{'entity_group': 'LABEL_3', 'score': 0.8876, 'word': '阿', 'start': 38, 'end': 39}\n",
      "{'entity_group': 'LABEL_0', 'score': 0.9292, 'word': '里 妈 妈', 'start': 39, 'end': 42}\n",
      "{'entity_group': 'LABEL_2', 'score': 1.0, 'word': '。', 'start': 42, 'end': 43}\n"
     ]
    }
   ],
   "source": [
    "preds = classifier(\"阿里巴巴是一个中国的企业，位于杭州；他的旗下有很多子公司，例如，淘宝，天猫，阿里妈妈。\")\n",
    "preds = [\n",
    "    {\n",
    "        \"entity_group\": pred[\"entity_group\"],\n",
    "        \"score\": round(pred[\"score\"], 4),\n",
    "        \"word\": pred[\"word\"],\n",
    "        \"start\": pred[\"start\"],\n",
    "        \"end\": pred[\"end\"],\n",
    "    }\n",
    "    for pred in preds\n",
    "]\n",
    "print(*preds, sep=\"\\n\")"
   ]
  },
  {
   "cell_type": "code",
   "execution_count": 55,
   "id": "e0a2a907-4172-461d-a679-be394dce2ee3",
   "metadata": {
    "ExecutionIndicator": {
     "show": true
    },
    "execution": {
     "iopub.execute_input": "2024-01-17T04:03:59.787763Z",
     "iopub.status.busy": "2024-01-17T04:03:59.787055Z",
     "iopub.status.idle": "2024-01-17T04:04:00.045504Z",
     "shell.execute_reply": "2024-01-17T04:04:00.044734Z",
     "shell.execute_reply.started": "2024-01-17T04:03:59.787732Z"
    },
    "tags": []
   },
   "outputs": [
    {
     "name": "stdout",
     "output_type": "stream",
     "text": [
      "{'entity_group': 'LABEL_8', 'score': 0.9998, 'word': '王', 'start': 0, 'end': 1}\n",
      "{'entity_group': 'LABEL_5', 'score': 0.9998, 'word': '宏 伟', 'start': 1, 'end': 3}\n",
      "{'entity_group': 'LABEL_2', 'score': 1.0, 'word': '来 自', 'start': 3, 'end': 5}\n",
      "{'entity_group': 'LABEL_1', 'score': 0.9997, 'word': '北', 'start': 5, 'end': 6}\n",
      "{'entity_group': 'LABEL_4', 'score': 0.9996, 'word': '京', 'start': 6, 'end': 7}\n",
      "{'entity_group': 'LABEL_2', 'score': 1.0, 'word': '， 是 个 警 察 ， 喜 欢 去', 'start': 7, 'end': 16}\n",
      "{'entity_group': 'LABEL_1', 'score': 0.9963, 'word': '王', 'start': 16, 'end': 17}\n",
      "{'entity_group': 'LABEL_4', 'score': 0.995, 'word': '府 井', 'start': 17, 'end': 19}\n",
      "{'entity_group': 'LABEL_2', 'score': 1.0, 'word': '游 玩 儿 。', 'start': 19, 'end': 23}\n"
     ]
    }
   ],
   "source": [
    "classifier = pipeline(task=\"ner\", grouped_entities=True, model=\"/mnt/workspace/bert4ner-base-chinese\")\n",
    "preds = classifier(\"王宏伟来自北京，是个警察，喜欢去王府井游玩儿。\")\n",
    "preds = [\n",
    "    {\n",
    "        \"entity_group\": pred[\"entity_group\"],\n",
    "        \"score\": round(pred[\"score\"], 4),\n",
    "        \"word\": pred[\"word\"],\n",
    "        \"start\": pred[\"start\"],\n",
    "        \"end\": pred[\"end\"],\n",
    "    }\n",
    "    for pred in preds\n",
    "]\n",
    "print(*preds, sep=\"\\n\")"
   ]
  },
  {
   "cell_type": "code",
   "execution_count": 40,
   "id": "24bb1e95-03c0-456d-a9ac-abf75301b24c",
   "metadata": {
    "ExecutionIndicator": {
     "show": true
    },
    "execution": {
     "iopub.execute_input": "2024-01-17T03:59:49.434991Z",
     "iopub.status.busy": "2024-01-17T03:59:49.434268Z",
     "iopub.status.idle": "2024-01-17T03:59:49.697378Z",
     "shell.execute_reply": "2024-01-17T03:59:49.696485Z",
     "shell.execute_reply.started": "2024-01-17T03:59:49.434947Z"
    },
    "tags": []
   },
   "outputs": [
    {
     "name": "stdout",
     "output_type": "stream",
     "text": [
      "王宏伟来自北京，是个警察，喜欢去王府井游玩儿。\n",
      "[('宏', 'B-PER'), ('伟', 'I-PER'), ('来', 'I-PER'), ('自', 'O'), ('北', 'O'), ('京', 'B-LOC'), ('，', 'I-LOC'), ('是', 'O'), ('个', 'O'), ('警', 'O'), ('察', 'O'), ('，', 'O'), ('喜', 'O'), ('欢', 'O'), ('去', 'O'), ('王', 'O'), ('府', 'B-LOC'), ('井', 'I-LOC'), ('游', 'I-LOC'), ('玩', 'O'), ('儿', 'O')]\n",
      "Sentence entity:\n",
      "[('王宏伟', 'PER'), ('北京', 'LOC'), ('王府井', 'LOC')]\n"
     ]
    }
   ],
   "source": [
    "import os\n",
    "import torch\n",
    "from transformers import AutoTokenizer, AutoModelForTokenClassification\n",
    "from seqeval.metrics.sequence_labeling import get_entities\n",
    "os.environ[\"KMP_DUPLICATE_LIB_OK\"] = \"TRUE\"\n",
    "\n",
    "tokenizer = AutoTokenizer.from_pretrained(\"/mnt/workspace/bert4ner-base-chinese\")\n",
    "model = AutoModelForTokenClassification.from_pretrained(\"/mnt/workspace/bert4ner-base-chinese\")\n",
    "label_list = ['I-ORG', 'B-LOC', 'O', 'B-ORG', 'I-LOC', 'I-PER', 'B-TIME', 'I-TIME', 'B-PER']\n",
    "\n",
    "sentence = \"王宏伟来自北京，是个警察，喜欢去王府井游玩儿。\"\n",
    "\n",
    "def get_entity(sentence):\n",
    "    tokens = tokenizer.tokenize(sentence)\n",
    "    inputs = tokenizer.encode(sentence, return_tensors=\"pt\")\n",
    "    with torch.no_grad():\n",
    "        outputs = model(inputs).logits\n",
    "    predictions = torch.argmax(outputs, dim=2)\n",
    "    char_tags = [(token, label_list[prediction]) for token, prediction in zip(tokens, predictions[0].numpy())][1:-1]\n",
    "    print(sentence)\n",
    "    print(char_tags)\n",
    "\n",
    "    pred_labels = [i[1] for i in char_tags]\n",
    "    entities = []\n",
    "    line_entities = get_entities(pred_labels)\n",
    "    for i in line_entities:\n",
    "        word = sentence[i[1]: i[2] + 1]\n",
    "        entity_type = i[0]\n",
    "        entities.append((word, entity_type))\n",
    "\n",
    "    print(\"Sentence entity:\")\n",
    "    print(entities)\n",
    "    \n",
    "get_entity(sentence)\n",
    "\n",
    "## 官方输出：\n",
    "## Sentence entity:\n",
    "## [('王宏伟', 'PER'), ('北京', 'LOC'), ('王府井', 'LOC')]"
   ]
  },
  {
   "cell_type": "code",
   "execution_count": 56,
   "id": "ba6aeb6a-2ad1-493d-8752-75401ab44d64",
   "metadata": {
    "ExecutionIndicator": {
     "show": true
    },
    "execution": {
     "iopub.execute_input": "2024-01-17T04:04:46.169291Z",
     "iopub.status.busy": "2024-01-17T04:04:46.168548Z",
     "iopub.status.idle": "2024-01-17T04:04:46.435419Z",
     "shell.execute_reply": "2024-01-17T04:04:46.434557Z",
     "shell.execute_reply.started": "2024-01-17T04:04:46.169265Z"
    },
    "tags": []
   },
   "outputs": [
    {
     "name": "stdout",
     "output_type": "stream",
     "text": [
      "{'entity_group': 'LABEL_2', 'score': 1.0, 'word': '我 叫', 'start': 0, 'end': 2}\n",
      "{'entity_group': 'LABEL_8', 'score': 0.9987, 'word': '沃', 'start': 2, 'end': 3}\n",
      "{'entity_group': 'LABEL_5', 'score': 0.9993, 'word': '尔 夫 冈', 'start': 3, 'end': 6}\n",
      "{'entity_group': 'LABEL_2', 'score': 1.0, 'word': '， 我 住 在', 'start': 6, 'end': 10}\n",
      "{'entity_group': 'LABEL_1', 'score': 0.995, 'word': '柏', 'start': 10, 'end': 11}\n",
      "{'entity_group': 'LABEL_4', 'score': 0.9949, 'word': '林', 'start': 11, 'end': 12}\n",
      "{'entity_group': 'LABEL_2', 'score': 1.0, 'word': '。', 'start': 12, 'end': 13}\n"
     ]
    }
   ],
   "source": [
    "classifier = pipeline(task=\"ner\", grouped_entities=True, model=\"/mnt/workspace/bert4ner-base-chinese\")\n",
    "preds = classifier(\"我叫沃尔夫冈，我住在柏林。\")\n",
    "preds = [\n",
    "    {\n",
    "        \"entity_group\": pred[\"entity_group\"],\n",
    "        \"score\": round(pred[\"score\"], 4),\n",
    "        \"word\": pred[\"word\"],\n",
    "        \"start\": pred[\"start\"],\n",
    "        \"end\": pred[\"end\"],\n",
    "    }\n",
    "    for pred in preds\n",
    "]\n",
    "print(*preds, sep=\"\\n\")"
   ]
  },
  {
   "cell_type": "markdown",
   "id": "e5a2fde4-b643-4b24-a39a-325fcd83b646",
   "metadata": {},
   "source": [
    "## Question Answering: question-answering"
   ]
  },
  {
   "cell_type": "code",
   "execution_count": 57,
   "id": "9e8fe043-4d1f-4795-a39a-5b034393ebd1",
   "metadata": {
    "execution": {
     "iopub.execute_input": "2024-01-17T06:00:13.903283Z",
     "iopub.status.busy": "2024-01-17T06:00:13.902870Z",
     "iopub.status.idle": "2024-01-17T06:00:14.226649Z",
     "shell.execute_reply": "2024-01-17T06:00:14.225885Z",
     "shell.execute_reply.started": "2024-01-17T06:00:13.903255Z"
    },
    "tags": []
   },
   "outputs": [],
   "source": [
    "question_answerer = pipeline(task=\"question-answering\",model=\"/mnt/workspace/bert-base-chinese-finetuned-squad-colab\")"
   ]
  },
  {
   "cell_type": "code",
   "execution_count": 58,
   "id": "919aaebc-b2e7-45cd-a01c-687257ee0ca3",
   "metadata": {
    "execution": {
     "iopub.execute_input": "2024-01-17T06:00:32.606726Z",
     "iopub.status.busy": "2024-01-17T06:00:32.605945Z",
     "iopub.status.idle": "2024-01-17T06:00:32.723233Z",
     "shell.execute_reply": "2024-01-17T06:00:32.722288Z",
     "shell.execute_reply.started": "2024-01-17T06:00:32.606695Z"
    },
    "tags": []
   },
   "outputs": [
    {
     "name": "stdout",
     "output_type": "stream",
     "text": [
      "score: 0.0, start: 30, end: 54, answer: huggingface/transformers\n"
     ]
    }
   ],
   "source": [
    "preds = question_answerer(\n",
    "    question=\"What is the name of the repository?\",\n",
    "    context=\"The name of the repository is huggingface/transformers\",\n",
    ")\n",
    "print(\n",
    "    f\"score: {round(preds['score'], 4)}, start: {preds['start']}, end: {preds['end']}, answer: {preds['answer']}\"\n",
    ")"
   ]
  },
  {
   "cell_type": "code",
   "execution_count": 59,
   "id": "e5f22af9-7491-4281-b40a-c047b5e4c93f",
   "metadata": {
    "execution": {
     "iopub.execute_input": "2024-01-17T06:00:52.585501Z",
     "iopub.status.busy": "2024-01-17T06:00:52.584768Z",
     "iopub.status.idle": "2024-01-17T06:00:52.589567Z",
     "shell.execute_reply": "2024-01-17T06:00:52.589006Z",
     "shell.execute_reply.started": "2024-01-17T06:00:52.585469Z"
    },
    "tags": []
   },
   "outputs": [
    {
     "data": {
      "text/plain": [
       "{'score': 5.904358252317721e-11,\n",
       " 'start': 30,\n",
       " 'end': 54,\n",
       " 'answer': 'huggingface/transformers'}"
      ]
     },
     "execution_count": 59,
     "metadata": {},
     "output_type": "execute_result"
    }
   ],
   "source": [
    "preds"
   ]
  },
  {
   "cell_type": "code",
   "execution_count": 61,
   "id": "f45cd1ce-f28b-4a80-8d66-01314696b176",
   "metadata": {
    "ExecutionIndicator": {
     "show": true
    },
    "execution": {
     "iopub.execute_input": "2024-01-17T06:02:54.174339Z",
     "iopub.status.busy": "2024-01-17T06:02:54.173638Z",
     "iopub.status.idle": "2024-01-17T06:02:54.285961Z",
     "shell.execute_reply": "2024-01-17T06:02:54.285039Z",
     "shell.execute_reply.started": "2024-01-17T06:02:54.174316Z"
    },
    "tags": []
   },
   "outputs": [
    {
     "name": "stdout",
     "output_type": "stream",
     "text": [
      "score: 0.0, start: 7, end: 11, answer: 给他哈巴\n"
     ]
    }
   ],
   "source": [
    "preds = question_answerer(\n",
    "    question=\"代码库的名字是什么?\",\n",
    "    context=\"代码库的名字是给他哈巴\",\n",
    ")\n",
    "print(\n",
    "    f\"score: {round(preds['score'], 4)}, start: {preds['start']}, end: {preds['end']}, answer: {preds['answer']}\"\n",
    ")"
   ]
  },
  {
   "cell_type": "code",
   "execution_count": 62,
   "id": "abb32cda-f950-442d-8615-150b24558f4b",
   "metadata": {
    "execution": {
     "iopub.execute_input": "2024-01-17T06:03:01.945502Z",
     "iopub.status.busy": "2024-01-17T06:03:01.944884Z",
     "iopub.status.idle": "2024-01-17T06:03:01.949786Z",
     "shell.execute_reply": "2024-01-17T06:03:01.949126Z",
     "shell.execute_reply.started": "2024-01-17T06:03:01.945474Z"
    },
    "tags": []
   },
   "outputs": [
    {
     "data": {
      "text/plain": [
       "{'score': 8.687158015163732e-08, 'start': 7, 'end': 11, 'answer': '给他哈巴'}"
      ]
     },
     "execution_count": 62,
     "metadata": {},
     "output_type": "execute_result"
    }
   ],
   "source": [
    "preds"
   ]
  },
  {
   "cell_type": "code",
   "execution_count": 63,
   "id": "239b1cbd-382e-47f3-8e91-5ffdeca7377c",
   "metadata": {
    "execution": {
     "iopub.execute_input": "2024-01-17T06:04:21.756146Z",
     "iopub.status.busy": "2024-01-17T06:04:21.755736Z",
     "iopub.status.idle": "2024-01-17T06:04:21.865577Z",
     "shell.execute_reply": "2024-01-17T06:04:21.864834Z",
     "shell.execute_reply.started": "2024-01-17T06:04:21.756120Z"
    },
    "tags": []
   },
   "outputs": [
    {
     "name": "stdout",
     "output_type": "stream",
     "text": [
      "score: 0.0, start: 7, end: 22, answer: 一种高级、通用、解释性编程语言\n"
     ]
    }
   ],
   "source": [
    "preds = question_answerer(\n",
    "    question=\"Python是什么?\",\n",
    "    context=\"Python是一种高级、通用、解释性编程语言\",\n",
    ")\n",
    "print(\n",
    "    f\"score: {round(preds['score'], 4)}, start: {preds['start']}, end: {preds['end']}, answer: {preds['answer']}\"\n",
    ")"
   ]
  },
  {
   "cell_type": "code",
   "execution_count": 64,
   "id": "f7ddf1c2-144e-4fd4-8691-e29a5a26b1e4",
   "metadata": {
    "execution": {
     "iopub.execute_input": "2024-01-17T06:04:40.610351Z",
     "iopub.status.busy": "2024-01-17T06:04:40.609657Z",
     "iopub.status.idle": "2024-01-17T06:04:40.614372Z",
     "shell.execute_reply": "2024-01-17T06:04:40.613707Z",
     "shell.execute_reply.started": "2024-01-17T06:04:40.610327Z"
    },
    "tags": []
   },
   "outputs": [
    {
     "data": {
      "text/plain": [
       "{'score': 1.025332210247143e-07,\n",
       " 'start': 7,\n",
       " 'end': 22,\n",
       " 'answer': '一种高级、通用、解释性编程语言'}"
      ]
     },
     "execution_count": 64,
     "metadata": {},
     "output_type": "execute_result"
    }
   ],
   "source": [
    "preds"
   ]
  },
  {
   "cell_type": "code",
   "execution_count": 66,
   "id": "19c0ed7c-505b-4ffa-9801-9f89abdab720",
   "metadata": {
    "ExecutionIndicator": {
     "show": true
    },
    "execution": {
     "iopub.execute_input": "2024-01-17T06:07:20.230822Z",
     "iopub.status.busy": "2024-01-17T06:07:20.230253Z",
     "iopub.status.idle": "2024-01-17T06:07:20.342147Z",
     "shell.execute_reply": "2024-01-17T06:07:20.341454Z",
     "shell.execute_reply.started": "2024-01-17T06:07:20.230790Z"
    },
    "tags": []
   },
   "outputs": [
    {
     "name": "stdout",
     "output_type": "stream",
     "text": [
      "score: 0.0, start: 17, end: 19, answer: 滑雪\n"
     ]
    }
   ],
   "source": [
    "preds = question_answerer(\n",
    "    question=\"我的爱好是什么?\",\n",
    "    context=\"我的名字是小王，我住在上海，我喜欢滑雪\",\n",
    ")\n",
    "print(\n",
    "    f\"score: {round(preds['score'], 8)}, start: {preds['start']}, end: {preds['end']}, answer: {preds['answer']}\"\n",
    ")"
   ]
  },
  {
   "cell_type": "code",
   "execution_count": 67,
   "id": "4183de91-80f2-4b99-982b-1fbad8204b64",
   "metadata": {
    "execution": {
     "iopub.execute_input": "2024-01-17T06:07:41.625493Z",
     "iopub.status.busy": "2024-01-17T06:07:41.625091Z",
     "iopub.status.idle": "2024-01-17T06:07:41.739952Z",
     "shell.execute_reply": "2024-01-17T06:07:41.739256Z",
     "shell.execute_reply.started": "2024-01-17T06:07:41.625469Z"
    },
    "tags": []
   },
   "outputs": [
    {
     "name": "stdout",
     "output_type": "stream",
     "text": [
      "score: 1.11e-06, start: 11, end: 13, answer: 上海\n"
     ]
    }
   ],
   "source": [
    "preds = question_answerer(\n",
    "    question=\"我住在哪里?\",\n",
    "    context=\"我的名字是小王，我住在上海，我喜欢滑雪\",\n",
    ")\n",
    "print(\n",
    "    f\"score: {round(preds['score'], 8)}, start: {preds['start']}, end: {preds['end']}, answer: {preds['answer']}\"\n",
    ")"
   ]
  },
  {
   "cell_type": "code",
   "execution_count": 68,
   "id": "c29238e3-0675-411c-a92e-7e4684948c6b",
   "metadata": {
    "ExecutionIndicator": {
     "show": false
    },
    "execution": {
     "iopub.execute_input": "2024-01-17T06:24:36.419768Z",
     "iopub.status.busy": "2024-01-17T06:24:36.419358Z",
     "iopub.status.idle": "2024-01-17T06:24:36.568432Z",
     "shell.execute_reply": "2024-01-17T06:24:36.567512Z",
     "shell.execute_reply.started": "2024-01-17T06:24:36.419742Z"
    },
    "tags": []
   },
   "outputs": [
    {
     "name": "stdout",
     "output_type": "stream",
     "text": [
      "score: 0.97935921, start: 55, end: 61, answer: 905亿美元\n"
     ]
    }
   ],
   "source": [
    "preds = question_answerer(\n",
    "    question=\"手机游戏收入是多少?\",\n",
    "    context=\"根据Newzoo最新报告统计，23年预计全球游戏市场销售额1840亿美元(yoy 0.6%)，其中手机游戏收入905亿美元(占比49%)，\\\n",
    "全球游戏产业在疫情高基数及宏观逆风因素压力下，逐步复苏。\",\n",
    ")\n",
    "print(\n",
    "    f\"score: {round(preds['score'], 8)}, start: {preds['start']}, end: {preds['end']}, answer: {preds['answer']}\"\n",
    ")"
   ]
  },
  {
   "cell_type": "markdown",
   "id": "6ab09bcc-874e-4387-8513-d97652db96ad",
   "metadata": {},
   "source": [
    "## Summarization: summarization"
   ]
  },
  {
   "cell_type": "code",
   "execution_count": 2,
   "id": "3ec8c202-469a-4429-bd2d-08a7431fd808",
   "metadata": {
    "ExecutionIndicator": {
     "show": true
    },
    "execution": {
     "iopub.execute_input": "2024-01-23T03:26:16.018247Z",
     "iopub.status.busy": "2024-01-23T03:26:16.017587Z",
     "iopub.status.idle": "2024-01-23T03:26:20.319442Z",
     "shell.execute_reply": "2024-01-23T03:26:20.318834Z",
     "shell.execute_reply.started": "2024-01-23T03:26:16.018218Z"
    },
    "tags": []
   },
   "outputs": [],
   "source": [
    "from transformers import pipeline\n",
    "summarizer = pipeline(task=\"summarization\",\n",
    "                      min_length=8,\n",
    "                      max_length=32, model=\"/mnt/workspace/Bert-chinese-Summarization\"\n",
    ")"
   ]
  },
  {
   "cell_type": "code",
   "execution_count": 3,
   "id": "f284ff27-17f6-4d18-9568-b302f4e466ec",
   "metadata": {
    "execution": {
     "iopub.execute_input": "2024-01-23T03:26:23.672547Z",
     "iopub.status.busy": "2024-01-23T03:26:23.671772Z",
     "iopub.status.idle": "2024-01-23T03:26:24.690439Z",
     "shell.execute_reply": "2024-01-23T03:26:24.689381Z",
     "shell.execute_reply.started": "2024-01-23T03:26:23.672517Z"
    }
   },
   "outputs": [
    {
     "data": {
      "text/plain": [
       "[{'summary_text': 'FILIA, sequence transduction, sequence transduction, sequence transduction'}]"
      ]
     },
     "execution_count": 3,
     "metadata": {},
     "output_type": "execute_result"
    }
   ],
   "source": [
    "summarizer(\n",
    "    \"\"\"\n",
    "    In this work, we presented the Transformer, the first sequence transduction model based entirely on attention, \n",
    "    replacing the recurrent layers most commonly used in encoder-decoder architectures with multi-headed self-attention. \n",
    "    For translation tasks, the Transformer can be trained significantly faster than architectures based on recurrent or convolutional layers. \n",
    "    On both WMT 2014 English-to-German and WMT 2014 English-to-French translation tasks, we achieve a new state of the art. \n",
    "    In the former task our best model outperforms even all previously reported ensembles.\n",
    "    \"\"\"\n",
    ")"
   ]
  },
  {
   "cell_type": "code",
   "execution_count": 4,
   "id": "35daccd5-f00a-4363-a707-80e85d97c8d0",
   "metadata": {
    "execution": {
     "iopub.execute_input": "2024-01-23T03:26:30.628791Z",
     "iopub.status.busy": "2024-01-23T03:26:30.628024Z",
     "iopub.status.idle": "2024-01-23T03:26:31.799087Z",
     "shell.execute_reply": "2024-01-23T03:26:31.798267Z",
     "shell.execute_reply.started": "2024-01-23T03:26:30.628759Z"
    }
   },
   "outputs": [
    {
     "data": {
      "text/plain": [
       "[{'summary_text': 'FILI, NLP, grammar, languages, grammar, languages, languages'}]"
      ]
     },
     "execution_count": 4,
     "metadata": {},
     "output_type": "execute_result"
    }
   ],
   "source": [
    "summarizer(\n",
    "    '''\n",
    "    Large language models (LLM) are very large deep learning models that are pre-trained on vast amounts of data. \n",
    "    The underlying transformer is a set of neural networks that consist of an encoder and a decoder with self-attention capabilities. \n",
    "    The encoder and decoder extract meanings from a sequence of text and understand the relationships between words and phrases in it.\n",
    "    Transformer LLMs are capable of unsupervised training, although a more precise explanation is that transformers perform self-learning. \n",
    "    It is through this process that transformers learn to understand basic grammar, languages, and knowledge.\n",
    "    Unlike earlier recurrent neural networks (RNN) that sequentially process inputs, transformers process entire sequences in parallel. \n",
    "    This allows the data scientists to use GPUs for training transformer-based LLMs, significantly reducing the training time.\n",
    "    '''\n",
    ")"
   ]
  },
  {
   "cell_type": "code",
   "execution_count": 5,
   "id": "9deeb34d-de39-4d1a-870d-b3d693cdc9d6",
   "metadata": {
    "execution": {
     "iopub.execute_input": "2024-01-23T03:26:59.524529Z",
     "iopub.status.busy": "2024-01-23T03:26:59.523919Z",
     "iopub.status.idle": "2024-01-23T03:27:00.223860Z",
     "shell.execute_reply": "2024-01-23T03:27:00.222882Z",
     "shell.execute_reply.started": "2024-01-23T03:26:59.524501Z"
    }
   },
   "outputs": [
    {
     "data": {
      "text/plain": [
       "[{'summary_text': 'FILIA,游戏产业,金融科技,金融科技'}]"
      ]
     },
     "execution_count": 5,
     "metadata": {},
     "output_type": "execute_result"
    }
   ],
   "source": [
    "summarizer(\n",
    "    '''\n",
    "    根据Newzoo最新报告统计，23年预计全球游戏市场销售额1840亿美元(yoy 0.6%)，其中手机游戏收入905亿美元(占比49%)，\\\n",
    "全球游戏产业在疫情高基数及宏观逆风因素压力下，逐步复苏。\n",
    "    '''\n",
    ")"
   ]
  },
  {
   "cell_type": "markdown",
   "id": "2c23a6c9-0dec-48e2-a406-90db7b282d44",
   "metadata": {},
   "source": [
    "## Audio classification: audio-classification"
   ]
  },
  {
   "cell_type": "code",
   "execution_count": 69,
   "id": "010e9b97-bb43-44fe-97b6-a6c7953596c2",
   "metadata": {
    "execution": {
     "iopub.execute_input": "2024-01-17T08:48:11.201557Z",
     "iopub.status.busy": "2024-01-17T08:48:11.201163Z",
     "iopub.status.idle": "2024-01-17T08:48:11.570769Z",
     "shell.execute_reply": "2024-01-17T08:48:11.570125Z",
     "shell.execute_reply.started": "2024-01-17T08:48:11.201534Z"
    },
    "tags": []
   },
   "outputs": [
    {
     "name": "stderr",
     "output_type": "stream",
     "text": [
      "Some weights of the model checkpoint at /mnt/workspace/hubert-base-superb-er were not used when initializing HubertForSequenceClassification: ['hubert.encoder.pos_conv_embed.conv.weight_v', 'hubert.encoder.pos_conv_embed.conv.weight_g']\n",
      "- This IS expected if you are initializing HubertForSequenceClassification from the checkpoint of a model trained on another task or with another architecture (e.g. initializing a BertForSequenceClassification model from a BertForPreTraining model).\n",
      "- This IS NOT expected if you are initializing HubertForSequenceClassification from the checkpoint of a model that you expect to be exactly identical (initializing a BertForSequenceClassification model from a BertForSequenceClassification model).\n",
      "Some weights of HubertForSequenceClassification were not initialized from the model checkpoint at /mnt/workspace/hubert-base-superb-er and are newly initialized: ['hubert.encoder.pos_conv_embed.conv.parametrizations.weight.original0', 'hubert.encoder.pos_conv_embed.conv.parametrizations.weight.original1']\n",
      "You should probably TRAIN this model on a down-stream task to be able to use it for predictions and inference.\n"
     ]
    }
   ],
   "source": [
    "classifier = pipeline(task=\"audio-classification\", model=\"/mnt/workspace/hubert-base-superb-er\")"
   ]
  },
  {
   "cell_type": "code",
   "execution_count": 70,
   "id": "01220082-9bc6-4f67-820a-7464f69f97a8",
   "metadata": {
    "execution": {
     "iopub.execute_input": "2024-01-17T08:48:54.160881Z",
     "iopub.status.busy": "2024-01-17T08:48:54.160476Z",
     "iopub.status.idle": "2024-01-17T08:48:55.151035Z",
     "shell.execute_reply": "2024-01-17T08:48:55.150358Z",
     "shell.execute_reply.started": "2024-01-17T08:48:54.160856Z"
    },
    "tags": []
   },
   "outputs": [
    {
     "data": {
      "text/plain": [
       "[{'score': 0.4532, 'label': 'hap'},\n",
       " {'score': 0.3622, 'label': 'sad'},\n",
       " {'score': 0.0943, 'label': 'neu'},\n",
       " {'score': 0.0903, 'label': 'ang'}]"
      ]
     },
     "execution_count": 70,
     "metadata": {},
     "output_type": "execute_result"
    }
   ],
   "source": [
    "preds = classifier(\"/mnt/workspace/data/mlk.flac\")\n",
    "preds = [{\"score\": round(pred[\"score\"], 4), \"label\": pred[\"label\"]} for pred in preds]\n",
    "preds"
   ]
  },
  {
   "cell_type": "code",
   "execution_count": 71,
   "id": "f3a78c3f-9c5b-4bca-8370-1b9493f3801f",
   "metadata": {
    "execution": {
     "iopub.execute_input": "2024-01-17T08:49:27.094878Z",
     "iopub.status.busy": "2024-01-17T08:49:27.094176Z",
     "iopub.status.idle": "2024-01-17T08:49:35.036721Z",
     "shell.execute_reply": "2024-01-17T08:49:35.035985Z",
     "shell.execute_reply.started": "2024-01-17T08:49:27.094853Z"
    },
    "tags": []
   },
   "outputs": [
    {
     "data": {
      "text/plain": [
       "[{'score': 0.919, 'label': 'hap'},\n",
       " {'score': 0.0404, 'label': 'ang'},\n",
       " {'score': 0.0335, 'label': 'sad'},\n",
       " {'score': 0.0071, 'label': 'neu'}]"
      ]
     },
     "execution_count": 71,
     "metadata": {},
     "output_type": "execute_result"
    }
   ],
   "source": [
    "preds = classifier(\"/mnt/workspace/data/learn-english.flac\")\n",
    "preds = [{\"score\": round(pred[\"score\"], 4), \"label\": pred[\"label\"]} for pred in preds]\n",
    "preds"
   ]
  },
  {
   "cell_type": "markdown",
   "id": "77ef4ce0-1e2c-470e-9a2a-501970c62b6a",
   "metadata": {},
   "source": [
    "## Automatic speech recognition: automatic-speech-recognition"
   ]
  },
  {
   "cell_type": "code",
   "execution_count": 72,
   "id": "95b976ef-3548-4c7e-ac1a-be263d606fdb",
   "metadata": {
    "execution": {
     "iopub.execute_input": "2024-01-17T08:50:19.943171Z",
     "iopub.status.busy": "2024-01-17T08:50:19.942435Z",
     "iopub.status.idle": "2024-01-17T08:50:21.553890Z",
     "shell.execute_reply": "2024-01-17T08:50:21.553128Z",
     "shell.execute_reply.started": "2024-01-17T08:50:19.943145Z"
    },
    "tags": []
   },
   "outputs": [],
   "source": [
    "transcriber = pipeline(task=\"automatic-speech-recognition\", model=\"/mnt/workspace/whisper-tiny\")"
   ]
  },
  {
   "cell_type": "code",
   "execution_count": 73,
   "id": "fe4e9d39-7564-49cf-9c93-db9ac5fa51e4",
   "metadata": {
    "execution": {
     "iopub.execute_input": "2024-01-17T08:50:23.728500Z",
     "iopub.status.busy": "2024-01-17T08:50:23.727770Z",
     "iopub.status.idle": "2024-01-17T08:50:24.432914Z",
     "shell.execute_reply": "2024-01-17T08:50:24.432249Z",
     "shell.execute_reply.started": "2024-01-17T08:50:23.728473Z"
    },
    "tags": []
   },
   "outputs": [
    {
     "data": {
      "text/plain": [
       "{'text': ' I have a dream. Good one day. This nation will rise up. Live out the true meaning of its dream.'}"
      ]
     },
     "execution_count": 73,
     "metadata": {},
     "output_type": "execute_result"
    }
   ],
   "source": [
    "text = transcriber(\"/mnt/workspace/data/mlk.flac\")\n",
    "text"
   ]
  },
  {
   "cell_type": "code",
   "execution_count": 74,
   "id": "1c5a32e1-fbfb-47f9-a12d-69441b673291",
   "metadata": {
    "ExecutionIndicator": {
     "show": false
    },
    "execution": {
     "iopub.execute_input": "2024-01-17T08:50:28.009560Z",
     "iopub.status.busy": "2024-01-17T08:50:28.008844Z",
     "iopub.status.idle": "2024-01-17T08:50:30.370689Z",
     "shell.execute_reply": "2024-01-17T08:50:30.369898Z",
     "shell.execute_reply.started": "2024-01-17T08:50:28.009533Z"
    },
    "tags": []
   },
   "outputs": [
    {
     "data": {
      "text/plain": [
       "{'text': \" Hello, Karl. Hello, mommy. Okay, let's review what's the title of the story. What's that? Dino hair. Do you know? Hair, old dog. Dino hair, old dog. Dina hair, and then also Dina hair. Oh, Dina hair. Oh, go! Dina hair. Oh, sister, dimma, and a drop.\"}"
      ]
     },
     "execution_count": 74,
     "metadata": {},
     "output_type": "execute_result"
    }
   ],
   "source": [
    "text = transcriber(\"/mnt/workspace/data/learn-english.flac\")\n",
    "text\n",
    "# Hello, Karl. Hello, mommy. Okay, let's review what's the title of the story. What dose Dina have? Dina has a dog. Dina has a duck. Dina has a dinosaur. Dina has a doll. Dina has a sister. Dina has a brother. "
   ]
  },
  {
   "cell_type": "markdown",
   "id": "c3a4a5db-7e50-44a7-8bec-c4c6dbfa7d61",
   "metadata": {},
   "source": [
    "## Image Classificaiton: image-classification"
   ]
  },
  {
   "cell_type": "code",
   "execution_count": 7,
   "id": "9d7e99ba-0a14-47fc-a0e1-f324f38682b3",
   "metadata": {
    "ExecutionIndicator": {
     "show": true
    },
    "execution": {
     "iopub.execute_input": "2024-01-17T09:29:00.871083Z",
     "iopub.status.busy": "2024-01-17T09:29:00.870654Z",
     "iopub.status.idle": "2024-01-17T09:29:01.011673Z",
     "shell.execute_reply": "2024-01-17T09:29:01.010944Z",
     "shell.execute_reply.started": "2024-01-17T09:29:00.871052Z"
    },
    "tags": []
   },
   "outputs": [],
   "source": [
    "from transformers import MobileViTFeatureExtractor, MobileViTForImageClassification\n",
    "feature_extractor = MobileViTFeatureExtractor.from_pretrained(\"/mnt/workspace/mobilevit-small\")\n",
    "model = MobileViTForImageClassification.from_pretrained(\"/mnt/workspace/mobilevit-small\")\n",
    "\n",
    "classifier = pipeline(task=\"image-classification\",model=model,feature_extractor=feature_extractor)"
   ]
  },
  {
   "cell_type": "code",
   "execution_count": 8,
   "id": "784e511b-dda9-4239-8004-17496ea25a4b",
   "metadata": {
    "execution": {
     "iopub.execute_input": "2024-01-17T09:30:12.069015Z",
     "iopub.status.busy": "2024-01-17T09:30:12.068407Z",
     "iopub.status.idle": "2024-01-17T09:30:12.163116Z",
     "shell.execute_reply": "2024-01-17T09:30:12.162388Z",
     "shell.execute_reply.started": "2024-01-17T09:30:12.068965Z"
    },
    "tags": []
   },
   "outputs": [
    {
     "name": "stdout",
     "output_type": "stream",
     "text": [
      "{'score': 0.9441, 'label': 'lynx, catamount'}\n",
      "{'score': 0.0041, 'label': 'tiger cat'}\n",
      "{'score': 0.0036, 'label': 'grey fox, gray fox, Urocyon cinereoargenteus'}\n",
      "{'score': 0.0026, 'label': 'Egyptian cat'}\n",
      "{'score': 0.002, 'label': 'tabby, tabby cat'}\n"
     ]
    }
   ],
   "source": [
    "preds = classifier(\n",
    "    \"/mnt/workspace/data/cat-chonk.jpeg\"\n",
    ")\n",
    "preds = [{\"score\": round(pred[\"score\"], 4), \"label\": pred[\"label\"]} for pred in preds]\n",
    "print(*preds, sep=\"\\n\")"
   ]
  },
  {
   "cell_type": "code",
   "execution_count": 9,
   "id": "730ecef8-4d42-45ab-883d-f0b7c9166667",
   "metadata": {
    "execution": {
     "iopub.execute_input": "2024-01-17T09:30:31.451130Z",
     "iopub.status.busy": "2024-01-17T09:30:31.450714Z",
     "iopub.status.idle": "2024-01-17T09:30:31.562800Z",
     "shell.execute_reply": "2024-01-17T09:30:31.561941Z",
     "shell.execute_reply.started": "2024-01-17T09:30:31.451103Z"
    },
    "tags": []
   },
   "outputs": [
    {
     "name": "stdout",
     "output_type": "stream",
     "text": [
      "{'score': 0.7917, 'label': 'giant panda, panda, panda bear, coon bear, Ailuropoda melanoleuca'}\n",
      "{'score': 0.0047, 'label': 'lesser panda, red panda, panda, bear cat, cat bear, Ailurus fulgens'}\n",
      "{'score': 0.0015, 'label': 'soccer ball'}\n",
      "{'score': 0.0013, 'label': 'indri, indris, Indri indri, Indri brevicaudatus'}\n",
      "{'score': 0.0012, 'label': 'Eskimo dog, husky'}\n"
     ]
    }
   ],
   "source": [
    "preds = classifier(\n",
    "    \"/mnt/workspace/data/panda.jpg\"\n",
    ")\n",
    "preds = [{\"score\": round(pred[\"score\"], 4), \"label\": pred[\"label\"]} for pred in preds]\n",
    "print(*preds, sep=\"\\n\")"
   ]
  },
  {
   "cell_type": "code",
   "execution_count": 78,
   "id": "e06250ec-6ca7-4a93-89d0-6ab03597ac9f",
   "metadata": {
    "ExecutionIndicator": {
     "show": true
    },
    "execution": {
     "iopub.execute_input": "2024-01-17T09:02:51.340883Z",
     "iopub.status.busy": "2024-01-17T09:02:51.340199Z",
     "iopub.status.idle": "2024-01-17T09:02:55.123158Z",
     "shell.execute_reply": "2024-01-17T09:02:55.122476Z",
     "shell.execute_reply.started": "2024-01-17T09:02:51.340859Z"
    },
    "tags": []
   },
   "outputs": [
    {
     "name": "stderr",
     "output_type": "stream",
     "text": [
      "/opt/conda/envs/transf/lib/python3.11/site-packages/transformers/models/mobilevit/feature_extraction_mobilevit.py:28: FutureWarning: The class MobileViTFeatureExtractor is deprecated and will be removed in version 5 of Transformers. Please use MobileViTImageProcessor instead.\n",
      "  warnings.warn(\n"
     ]
    },
    {
     "name": "stdout",
     "output_type": "stream",
     "text": [
      "Predicted class: tabby, tabby cat\n"
     ]
    }
   ],
   "source": [
    "from transformers import MobileViTFeatureExtractor, MobileViTForImageClassification\n",
    "from PIL import Image\n",
    "import requests\n",
    "\n",
    "url = \"http://images.cocodataset.org/val2017/000000039769.jpg\"\n",
    "image = Image.open(requests.get(url, stream=True).raw)\n",
    "\n",
    "feature_extractor = MobileViTFeatureExtractor.from_pretrained(\"/mnt/workspace/mobilevit-small\")\n",
    "model = MobileViTForImageClassification.from_pretrained(\"/mnt/workspace/mobilevit-small\")\n",
    "\n",
    "inputs = feature_extractor(images=image, return_tensors=\"pt\")\n",
    "\n",
    "outputs = model(**inputs)\n",
    "logits = outputs.logits\n",
    "\n",
    "# model predicts one of the 1000 ImageNet classes\n",
    "predicted_class_idx = logits.argmax(-1).item()\n",
    "print(\"Predicted class:\", model.config.id2label[predicted_class_idx])"
   ]
  },
  {
   "cell_type": "code",
   "execution_count": 79,
   "id": "2cf3b55b-757e-4931-a537-a0773492d418",
   "metadata": {
    "execution": {
     "iopub.execute_input": "2024-01-17T09:04:55.209112Z",
     "iopub.status.busy": "2024-01-17T09:04:55.208358Z",
     "iopub.status.idle": "2024-01-17T09:04:55.310053Z",
     "shell.execute_reply": "2024-01-17T09:04:55.309363Z",
     "shell.execute_reply.started": "2024-01-17T09:04:55.209080Z"
    },
    "tags": []
   },
   "outputs": [
    {
     "name": "stdout",
     "output_type": "stream",
     "text": [
      "Predicted class: lynx, catamount\n"
     ]
    }
   ],
   "source": [
    "image = Image.open(\"/mnt/workspace/data/cat-chonk.jpeg\")\n",
    "inputs = feature_extractor(images=image, return_tensors=\"pt\")\n",
    "\n",
    "outputs = model(**inputs)\n",
    "logits = outputs.logits\n",
    "\n",
    "# model predicts one of the 1000 ImageNet classes\n",
    "predicted_class_idx = logits.argmax(-1).item()\n",
    "print(\"Predicted class:\", model.config.id2label[predicted_class_idx])"
   ]
  },
  {
   "cell_type": "code",
   "execution_count": 80,
   "id": "a4a861a8-92d5-44f7-821d-31facdc95686",
   "metadata": {
    "execution": {
     "iopub.execute_input": "2024-01-17T09:05:58.538924Z",
     "iopub.status.busy": "2024-01-17T09:05:58.538223Z",
     "iopub.status.idle": "2024-01-17T09:05:58.653848Z",
     "shell.execute_reply": "2024-01-17T09:05:58.653045Z",
     "shell.execute_reply.started": "2024-01-17T09:05:58.538900Z"
    },
    "tags": []
   },
   "outputs": [
    {
     "name": "stdout",
     "output_type": "stream",
     "text": [
      "Predicted class: giant panda, panda, panda bear, coon bear, Ailuropoda melanoleuca\n"
     ]
    }
   ],
   "source": [
    "image = Image.open(\"/mnt/workspace/data/panda.jpg\")\n",
    "inputs = feature_extractor(images=image, return_tensors=\"pt\")\n",
    "\n",
    "outputs = model(**inputs)\n",
    "logits = outputs.logits\n",
    "\n",
    "# model predicts one of the 1000 ImageNet classes\n",
    "predicted_class_idx = logits.argmax(-1).item()\n",
    "print(\"Predicted class:\", model.config.id2label[predicted_class_idx])"
   ]
  },
  {
   "cell_type": "markdown",
   "id": "09e8aae8-423a-4501-8da4-1d4ed6a9630c",
   "metadata": {},
   "source": [
    "## Object Detection: object-detection"
   ]
  },
  {
   "cell_type": "code",
   "execution_count": 1,
   "id": "fb530af4-7f9d-4d27-90ae-7483eab3777e",
   "metadata": {
    "execution": {
     "iopub.execute_input": "2024-01-24T02:01:08.519152Z",
     "iopub.status.busy": "2024-01-24T02:01:08.518776Z",
     "iopub.status.idle": "2024-01-24T02:01:08.529048Z",
     "shell.execute_reply": "2024-01-24T02:01:08.527281Z",
     "shell.execute_reply.started": "2024-01-24T02:01:08.519114Z"
    },
    "tags": []
   },
   "outputs": [],
   "source": [
    "import os\n",
    "os.environ['HF_ENDPOINT'] = 'https://hf-mirror.com'"
   ]
  },
  {
   "cell_type": "code",
   "execution_count": 2,
   "id": "66124834-833c-453e-bf05-3f8abc0f7654",
   "metadata": {
    "execution": {
     "iopub.execute_input": "2024-01-24T02:01:10.092058Z",
     "iopub.status.busy": "2024-01-24T02:01:10.091416Z",
     "iopub.status.idle": "2024-01-24T02:20:59.603118Z",
     "shell.execute_reply": "2024-01-24T02:20:59.602470Z",
     "shell.execute_reply.started": "2024-01-24T02:01:10.092029Z"
    },
    "tags": []
   },
   "outputs": [
    {
     "name": "stderr",
     "output_type": "stream",
     "text": [
      "/opt/conda/envs/transf/lib/python3.11/site-packages/tqdm/auto.py:21: TqdmWarning: IProgress not found. Please update jupyter and ipywidgets. See https://ipywidgets.readthedocs.io/en/stable/user_install.html\n",
      "  from .autonotebook import tqdm as notebook_tqdm\n",
      "2024-01-24 10:01:12.381175: I tensorflow/core/platform/cpu_feature_guard.cc:182] This TensorFlow binary is optimized to use available CPU instructions in performance-critical operations.\n",
      "To enable the following instructions: SSE4.1 SSE4.2 AVX AVX2 AVX512F FMA, in other operations, rebuild TensorFlow with the appropriate compiler flags.\n",
      "No model was supplied, defaulted to facebook/detr-resnet-50 and revision 2729413 (https://hf-mirror.com/facebook/detr-resnet-50).\n",
      "Using a pipeline without specifying a model name and revision in production is not recommended.\n",
      "pytorch_model.bin:   0%|          | 0.00/167M [00:00<?, ?B/s]Error while downloading from https://cdn-lfs.hf-mirror.com/facebook/detr-resnet-50/9400d5a6a433c73bb3440f42daab69a7b728b4bce0922904ac4779cb04e08989?response-content-disposition=attachment%3B+filename*%3DUTF-8%27%27pytorch_model.bin%3B+filename%3D%22pytorch_model.bin%22%3B&response-content-type=application%2Foctet-stream&Expires=1706320878&Policy=eyJTdGF0ZW1lbnQiOlt7IkNvbmRpdGlvbiI6eyJEYXRlTGVzc1RoYW4iOnsiQVdTOkVwb2NoVGltZSI6MTcwNjMyMDg3OH19LCJSZXNvdXJjZSI6Imh0dHBzOi8vY2RuLWxmcy5odWdnaW5nZmFjZS5jby9mYWNlYm9vay9kZXRyLXJlc25ldC01MC85NDAwZDVhNmE0MzNjNzNiYjM0NDBmNDJkYWFiNjlhN2I3MjhiNGJjZTA5MjI5MDRhYzQ3NzljYjA0ZTA4OTg5P3Jlc3BvbnNlLWNvbnRlbnQtZGlzcG9zaXRpb249KiZyZXNwb25zZS1jb250ZW50LXR5cGU9KiJ9XX0_&Signature=d24Qnsya0g9EE4c6VzsadutrKc-lF2QYcAH%7EI0ACRFGU-2uiJ792YONncNMFex7XxuSylz%7E3eDduJqFuxIVKAl41EydOu3jG9TsLWApYyDfCVdGwQZ77CNwW18uvAq1WtT%7ER8CBPp7alS-WVyCfxM8b0fnf9eI7LufbM7D0xqut%7E0ZnE1Gz3NVQ483SeJSdjwOhMukmMCoY61J88Q%7E5KP%7ExsWRIPxeSpOId0IvoHcGbZ2hlDx0pIOWBorCXSY0cHU2K0PKpJfkIh-TROzRYwDG2aOg5wxru5U12Yzr5o%7E5DvZaDeihitGfhs8vKgYY5gwYunPOtQijzUkFoU2wAUfw__&Key-Pair-Id=KVTP0A1DKRTAX: HTTPSConnectionPool(host='cdn-lfs.hf-mirror.com', port=443): Read timed out.\n",
      "Trying to resume download...\n",
      "\n",
      "pytorch_model.bin:   0%|          | 0.00/167M [00:00<?, ?B/s]\u001b[AError while downloading from https://cdn-lfs.hf-mirror.com/facebook/detr-resnet-50/9400d5a6a433c73bb3440f42daab69a7b728b4bce0922904ac4779cb04e08989?response-content-disposition=attachment%3B+filename*%3DUTF-8%27%27pytorch_model.bin%3B+filename%3D%22pytorch_model.bin%22%3B&response-content-type=application%2Foctet-stream&Expires=1706320878&Policy=eyJTdGF0ZW1lbnQiOlt7IkNvbmRpdGlvbiI6eyJEYXRlTGVzc1RoYW4iOnsiQVdTOkVwb2NoVGltZSI6MTcwNjMyMDg3OH19LCJSZXNvdXJjZSI6Imh0dHBzOi8vY2RuLWxmcy5odWdnaW5nZmFjZS5jby9mYWNlYm9vay9kZXRyLXJlc25ldC01MC85NDAwZDVhNmE0MzNjNzNiYjM0NDBmNDJkYWFiNjlhN2I3MjhiNGJjZTA5MjI5MDRhYzQ3NzljYjA0ZTA4OTg5P3Jlc3BvbnNlLWNvbnRlbnQtZGlzcG9zaXRpb249KiZyZXNwb25zZS1jb250ZW50LXR5cGU9KiJ9XX0_&Signature=d24Qnsya0g9EE4c6VzsadutrKc-lF2QYcAH%7EI0ACRFGU-2uiJ792YONncNMFex7XxuSylz%7E3eDduJqFuxIVKAl41EydOu3jG9TsLWApYyDfCVdGwQZ77CNwW18uvAq1WtT%7ER8CBPp7alS-WVyCfxM8b0fnf9eI7LufbM7D0xqut%7E0ZnE1Gz3NVQ483SeJSdjwOhMukmMCoY61J88Q%7E5KP%7ExsWRIPxeSpOId0IvoHcGbZ2hlDx0pIOWBorCXSY0cHU2K0PKpJfkIh-TROzRYwDG2aOg5wxru5U12Yzr5o%7E5DvZaDeihitGfhs8vKgYY5gwYunPOtQijzUkFoU2wAUfw__&Key-Pair-Id=KVTP0A1DKRTAX: HTTPSConnectionPool(host='cdn-lfs.hf-mirror.com', port=443): Read timed out.\n",
      "Trying to resume download...\n",
      "\n",
      "\n",
      "pytorch_model.bin:   0%|          | 0.00/167M [00:00<?, ?B/s]\u001b[A\u001b[AError while downloading from https://cdn-lfs.hf-mirror.com/facebook/detr-resnet-50/9400d5a6a433c73bb3440f42daab69a7b728b4bce0922904ac4779cb04e08989?response-content-disposition=attachment%3B+filename*%3DUTF-8%27%27pytorch_model.bin%3B+filename%3D%22pytorch_model.bin%22%3B&response-content-type=application%2Foctet-stream&Expires=1706320878&Policy=eyJTdGF0ZW1lbnQiOlt7IkNvbmRpdGlvbiI6eyJEYXRlTGVzc1RoYW4iOnsiQVdTOkVwb2NoVGltZSI6MTcwNjMyMDg3OH19LCJSZXNvdXJjZSI6Imh0dHBzOi8vY2RuLWxmcy5odWdnaW5nZmFjZS5jby9mYWNlYm9vay9kZXRyLXJlc25ldC01MC85NDAwZDVhNmE0MzNjNzNiYjM0NDBmNDJkYWFiNjlhN2I3MjhiNGJjZTA5MjI5MDRhYzQ3NzljYjA0ZTA4OTg5P3Jlc3BvbnNlLWNvbnRlbnQtZGlzcG9zaXRpb249KiZyZXNwb25zZS1jb250ZW50LXR5cGU9KiJ9XX0_&Signature=d24Qnsya0g9EE4c6VzsadutrKc-lF2QYcAH%7EI0ACRFGU-2uiJ792YONncNMFex7XxuSylz%7E3eDduJqFuxIVKAl41EydOu3jG9TsLWApYyDfCVdGwQZ77CNwW18uvAq1WtT%7ER8CBPp7alS-WVyCfxM8b0fnf9eI7LufbM7D0xqut%7E0ZnE1Gz3NVQ483SeJSdjwOhMukmMCoY61J88Q%7E5KP%7ExsWRIPxeSpOId0IvoHcGbZ2hlDx0pIOWBorCXSY0cHU2K0PKpJfkIh-TROzRYwDG2aOg5wxru5U12Yzr5o%7E5DvZaDeihitGfhs8vKgYY5gwYunPOtQijzUkFoU2wAUfw__&Key-Pair-Id=KVTP0A1DKRTAX: HTTPSConnectionPool(host='cdn-lfs.hf-mirror.com', port=443): Read timed out.\n",
      "Trying to resume download...\n",
      "\n",
      "\n",
      "\n",
      "pytorch_model.bin:   0%|          | 0.00/167M [00:00<?, ?B/s]\u001b[A\u001b[A\u001b[A\n",
      "\n",
      "\n",
      "pytorch_model.bin:   6%|▋         | 10.5M/167M [00:03<00:46, 3.38MB/s]\u001b[A\u001b[A\u001b[A\n",
      "\n",
      "\n",
      "pytorch_model.bin:  13%|█▎        | 21.0M/167M [00:04<00:26, 5.55MB/s]\u001b[A\u001b[A\u001b[A\n",
      "\n",
      "\n",
      "pytorch_model.bin:  19%|█▉        | 31.5M/167M [00:05<00:20, 6.76MB/s]\u001b[A\u001b[A\u001b[A\n",
      "\n",
      "\n",
      "pytorch_model.bin:  25%|██▌       | 41.9M/167M [00:06<00:16, 7.41MB/s]\u001b[A\u001b[A\u001b[A\n",
      "\n",
      "\n",
      "pytorch_model.bin:  31%|███▏      | 52.4M/167M [00:07<00:14, 8.11MB/s]\u001b[A\u001b[A\u001b[A\n",
      "\n",
      "\n",
      "pytorch_model.bin:  38%|███▊      | 62.9M/167M [00:08<00:12, 8.61MB/s]\u001b[A\u001b[A\u001b[A\n",
      "\n",
      "\n",
      "pytorch_model.bin:  44%|████▍     | 73.4M/167M [00:09<00:10, 8.93MB/s]\u001b[A\u001b[A\u001b[A\n",
      "\n",
      "\n",
      "pytorch_model.bin:  50%|█████     | 83.9M/167M [00:10<00:09, 9.08MB/s]\u001b[A\u001b[A\u001b[A\n",
      "\n",
      "\n",
      "pytorch_model.bin:  57%|█████▋    | 94.4M/167M [00:11<00:07, 9.27MB/s]\u001b[A\u001b[A\u001b[A\n",
      "\n",
      "\n",
      "pytorch_model.bin:  63%|██████▎   | 105M/167M [00:12<00:06, 9.46MB/s] \u001b[A\u001b[A\u001b[A\n",
      "\n",
      "\n",
      "pytorch_model.bin:  69%|██████▉   | 115M/167M [00:13<00:04, 10.3MB/s]\u001b[A\u001b[A\u001b[A\n",
      "\n",
      "\n",
      "pytorch_model.bin:  75%|███████▌  | 126M/167M [00:14<00:04, 10.1MB/s]\u001b[A\u001b[A\u001b[A\n",
      "\n",
      "\n",
      "pytorch_model.bin:  82%|████████▏ | 136M/167M [00:16<00:03, 8.63MB/s]\u001b[A\u001b[A\u001b[A\n",
      "\n",
      "\n",
      "pytorch_model.bin:  88%|████████▊ | 147M/167M [00:17<00:02, 9.71MB/s]\u001b[A\u001b[A\u001b[A\n",
      "\n",
      "\n",
      "pytorch_model.bin:  94%|█████████▍| 157M/167M [00:18<00:00, 9.74MB/s]\u001b[A\u001b[A\u001b[A\n",
      "\n",
      "\n",
      "pytorch_model.bin: 100%|██████████| 167M/167M [00:19<00:00, 8.48MB/s]\u001b[A\u001b[A\u001b[A\n",
      "pytorch_model.bin:   0%|          | 0.00/167M [09:51<?, ?B/s]\n",
      "pytorch_model.bin:   0%|          | 0.00/167M [13:46<?, ?B/s]\n",
      "pytorch_model.bin:   0%|          | 0.00/167M [19:30<?, ?B/s]\n",
      "Some weights of the model checkpoint at facebook/detr-resnet-50 were not used when initializing DetrForObjectDetection: ['model.backbone.conv_encoder.model.layer3.0.downsample.1.num_batches_tracked', 'model.backbone.conv_encoder.model.layer1.0.downsample.1.num_batches_tracked', 'model.backbone.conv_encoder.model.layer4.0.downsample.1.num_batches_tracked', 'model.backbone.conv_encoder.model.layer2.0.downsample.1.num_batches_tracked']\n",
      "- This IS expected if you are initializing DetrForObjectDetection from the checkpoint of a model trained on another task or with another architecture (e.g. initializing a BertForSequenceClassification model from a BertForPreTraining model).\n",
      "- This IS NOT expected if you are initializing DetrForObjectDetection from the checkpoint of a model that you expect to be exactly identical (initializing a BertForSequenceClassification model from a BertForSequenceClassification model).\n",
      "preprocessor_config.json: 100%|██████████| 274/274 [00:00<00:00, 1.18MB/s]\n",
      "Could not find image processor class in the image processor config or the model config. Loading based on pattern matching with the model's feature extractor configuration.\n",
      "The `max_size` parameter is deprecated and will be removed in v4.26. Please specify in `size['longest_edge'] instead`.\n"
     ]
    }
   ],
   "source": [
    "from transformers import pipeline\n",
    "detector = pipeline(task=\"object-detection\")"
   ]
  },
  {
   "cell_type": "code",
   "execution_count": 3,
   "id": "78c1d875-028a-4ea2-84cf-a99eafb03f8f",
   "metadata": {
    "execution": {
     "iopub.execute_input": "2024-01-24T02:22:47.250570Z",
     "iopub.status.busy": "2024-01-24T02:22:47.249981Z",
     "iopub.status.idle": "2024-01-24T02:22:49.263384Z",
     "shell.execute_reply": "2024-01-24T02:22:49.262565Z",
     "shell.execute_reply.started": "2024-01-24T02:22:47.250527Z"
    },
    "tags": []
   },
   "outputs": [
    {
     "data": {
      "text/plain": [
       "[{'score': 0.9985,\n",
       "  'label': 'cat',\n",
       "  'box': {'xmin': 78, 'ymin': 57, 'xmax': 309, 'ymax': 371}},\n",
       " {'score': 0.989,\n",
       "  'label': 'dog',\n",
       "  'box': {'xmin': 279, 'ymin': 20, 'xmax': 482, 'ymax': 416}}]"
      ]
     },
     "execution_count": 3,
     "metadata": {},
     "output_type": "execute_result"
    }
   ],
   "source": [
    "preds = detector(\n",
    "    \"/mnt/workspace/data/cat_dog.jpg\"\n",
    ")\n",
    "preds = [{\"score\": round(pred[\"score\"], 4), \"label\": pred[\"label\"], \"box\": pred[\"box\"]} for pred in preds]\n",
    "preds"
   ]
  },
  {
   "cell_type": "code",
   "execution_count": 4,
   "id": "ff5cd50f-902d-4c81-82bd-0a31a636de7e",
   "metadata": {
    "execution": {
     "iopub.execute_input": "2024-01-24T02:22:52.121320Z",
     "iopub.status.busy": "2024-01-24T02:22:52.120604Z",
     "iopub.status.idle": "2024-01-24T02:22:53.248057Z",
     "shell.execute_reply": "2024-01-24T02:22:53.247353Z",
     "shell.execute_reply.started": "2024-01-24T02:22:52.121283Z"
    },
    "tags": []
   },
   "outputs": [
    {
     "data": {
      "text/plain": [
       "[{'score': 0.9864,\n",
       "  'label': 'cat',\n",
       "  'box': {'xmin': 178, 'ymin': 154, 'xmax': 882, 'ymax': 598}}]"
      ]
     },
     "execution_count": 4,
     "metadata": {},
     "output_type": "execute_result"
    }
   ],
   "source": [
    "preds = detector(\n",
    "    \"/mnt/workspace/data/cat-chonk.jpeg\"\n",
    ")\n",
    "preds = [{\"score\": round(pred[\"score\"], 4), \"label\": pred[\"label\"], \"box\": pred[\"box\"]} for pred in preds]\n",
    "preds"
   ]
  },
  {
   "cell_type": "code",
   "execution_count": 5,
   "id": "aff6475b-02cd-4d7e-971f-78a163863073",
   "metadata": {
    "execution": {
     "iopub.execute_input": "2024-01-24T02:22:55.359316Z",
     "iopub.status.busy": "2024-01-24T02:22:55.358914Z",
     "iopub.status.idle": "2024-01-24T02:22:56.794127Z",
     "shell.execute_reply": "2024-01-24T02:22:56.793417Z",
     "shell.execute_reply.started": "2024-01-24T02:22:55.359290Z"
    },
    "tags": []
   },
   "outputs": [
    {
     "data": {
      "text/plain": [
       "[{'score': 0.9989,\n",
       "  'label': 'zebra',\n",
       "  'box': {'xmin': 360, 'ymin': 250, 'xmax': 399, 'ymax': 312}},\n",
       " {'score': 0.9593,\n",
       "  'label': 'giraffe',\n",
       "  'box': {'xmin': 12, 'ymin': 150, 'xmax': 209, 'ymax': 259}},\n",
       " {'score': 0.9988,\n",
       "  'label': 'zebra',\n",
       "  'box': {'xmin': 113, 'ymin': 238, 'xmax': 227, 'ymax': 322}},\n",
       " {'score': 0.9794,\n",
       "  'label': 'zebra',\n",
       "  'box': {'xmin': 195, 'ymin': 232, 'xmax': 319, 'ymax': 303}},\n",
       " {'score': 0.999,\n",
       "  'label': 'giraffe',\n",
       "  'box': {'xmin': 364, 'ymin': 97, 'xmax': 538, 'ymax': 309}}]"
      ]
     },
     "execution_count": 5,
     "metadata": {},
     "output_type": "execute_result"
    }
   ],
   "source": [
    "preds = detector(\n",
    "    \"/mnt/workspace/data/animas.jpg\"\n",
    ")\n",
    "preds = [{\"score\": round(pred[\"score\"], 4), \"label\": pred[\"label\"], \"box\": pred[\"box\"]} for pred in preds]\n",
    "preds"
   ]
  },
  {
   "cell_type": "code",
   "execution_count": 6,
   "id": "e11b5110-e01e-4956-b44d-62237e0c867a",
   "metadata": {
    "execution": {
     "iopub.execute_input": "2024-01-24T02:22:59.563950Z",
     "iopub.status.busy": "2024-01-24T02:22:59.563500Z",
     "iopub.status.idle": "2024-01-24T02:23:00.788460Z",
     "shell.execute_reply": "2024-01-24T02:23:00.787710Z",
     "shell.execute_reply.started": "2024-01-24T02:22:59.563915Z"
    },
    "tags": []
   },
   "outputs": [],
   "source": [
    "preds = detector(\n",
    "    \"/mnt/workspace/data/animas.jpg\"\n",
    ")"
   ]
  },
  {
   "cell_type": "code",
   "execution_count": 7,
   "id": "c29336cf-7b95-43a6-9720-4ce9d95a4df6",
   "metadata": {
    "execution": {
     "iopub.execute_input": "2024-01-24T02:23:03.412312Z",
     "iopub.status.busy": "2024-01-24T02:23:03.411898Z",
     "iopub.status.idle": "2024-01-24T02:23:03.417269Z",
     "shell.execute_reply": "2024-01-24T02:23:03.416629Z",
     "shell.execute_reply.started": "2024-01-24T02:23:03.412283Z"
    },
    "tags": []
   },
   "outputs": [
    {
     "data": {
      "text/plain": [
       "[{'score': 0.9988986253738403,\n",
       "  'label': 'zebra',\n",
       "  'box': {'xmin': 360, 'ymin': 250, 'xmax': 399, 'ymax': 312}},\n",
       " {'score': 0.9592623114585876,\n",
       "  'label': 'giraffe',\n",
       "  'box': {'xmin': 12, 'ymin': 150, 'xmax': 209, 'ymax': 259}},\n",
       " {'score': 0.9988049268722534,\n",
       "  'label': 'zebra',\n",
       "  'box': {'xmin': 113, 'ymin': 238, 'xmax': 227, 'ymax': 322}},\n",
       " {'score': 0.9794008135795593,\n",
       "  'label': 'zebra',\n",
       "  'box': {'xmin': 195, 'ymin': 232, 'xmax': 319, 'ymax': 303}},\n",
       " {'score': 0.9989868998527527,\n",
       "  'label': 'giraffe',\n",
       "  'box': {'xmin': 364, 'ymin': 97, 'xmax': 538, 'ymax': 309}}]"
      ]
     },
     "execution_count": 7,
     "metadata": {},
     "output_type": "execute_result"
    }
   ],
   "source": [
    "preds"
   ]
  },
  {
   "cell_type": "code",
   "execution_count": null,
   "id": "3a8917b0-c392-4d31-9557-f73f97c9655b",
   "metadata": {},
   "outputs": [],
   "source": []
  }
 ],
 "metadata": {
  "kernelspec": {
   "display_name": "transf",
   "language": "python",
   "name": "transf"
  },
  "language_info": {
   "codemirror_mode": {
    "name": "ipython",
    "version": 3
   },
   "file_extension": ".py",
   "mimetype": "text/x-python",
   "name": "python",
   "nbconvert_exporter": "python",
   "pygments_lexer": "ipython3",
   "version": "3.11.7"
  }
 },
 "nbformat": 4,
 "nbformat_minor": 5
}

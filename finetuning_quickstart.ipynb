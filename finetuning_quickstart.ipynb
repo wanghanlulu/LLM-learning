{
 "cells": [
  {
   "cell_type": "code",
   "execution_count": 2,
   "id": "dc1df4d3-28d4-4b08-8c68-015856abaf25",
   "metadata": {
    "execution": {
     "iopub.execute_input": "2024-01-15T09:40:04.925291Z",
     "iopub.status.busy": "2024-01-15T09:40:04.924496Z",
     "iopub.status.idle": "2024-01-15T09:40:04.948290Z",
     "shell.execute_reply": "2024-01-15T09:40:04.947526Z",
     "shell.execute_reply.started": "2024-01-15T09:40:04.925253Z"
    },
    "tags": []
   },
   "outputs": [],
   "source": [
    "from datasets import load_dataset\n",
    "import datasets\n",
    "#dataset = load_dataset(\"yelp_review_full\")\n",
    "dataset = datasets.load_from_disk(\"/mnt/workspace/data/yelp_review_full_data\")"
   ]
  },
  {
   "cell_type": "code",
   "execution_count": 3,
   "id": "61cbc792-a093-44ff-bdf8-4bd3c60fbdde",
   "metadata": {
    "execution": {
     "iopub.execute_input": "2024-01-15T09:40:08.380375Z",
     "iopub.status.busy": "2024-01-15T09:40:08.379691Z",
     "iopub.status.idle": "2024-01-15T09:40:08.389861Z",
     "shell.execute_reply": "2024-01-15T09:40:08.389074Z",
     "shell.execute_reply.started": "2024-01-15T09:40:08.380334Z"
    },
    "tags": []
   },
   "outputs": [
    {
     "data": {
      "text/plain": [
       "{'label': 0,\n",
       " 'text': \"Owning a driving range inside the city limits is like a license to print money.  I don't think I ask much out of a driving range.  Decent mats, clean balls and accessible hours.  Hell you need even less people now with the advent of the machine that doles out the balls.  This place has none of them.  It is april and there are no grass tees yet.  BTW they opened for the season this week although it has been golfing weather for a month.  The mats look like the carpet at my 107 year old aunt Irene's house.  Worn and thread bare.  Let's talk about the hours.  This place is equipped with lights yet they only sell buckets of balls until 730.  It is still light out.  Finally lets you have the pit to hit into.  When I arrived I wasn't sure if this was a driving range or an excavation site for a mastodon or a strip mining operation.  There is no grass on the range. Just mud.  Makes it a good tool to figure out how far you actually are hitting the ball.  Oh, they are cash only also.\\\\n\\\\nBottom line, this place sucks.  The best hope is that the owner sells it to someone that actually wants to make money and service golfers in Pittsburgh.\"}"
      ]
     },
     "execution_count": 3,
     "metadata": {},
     "output_type": "execute_result"
    }
   ],
   "source": [
    "dataset[\"train\"][10]"
   ]
  },
  {
   "cell_type": "code",
   "execution_count": 4,
   "id": "ba6b3db8-3967-4350-82cd-2fcedb3423d2",
   "metadata": {
    "execution": {
     "iopub.execute_input": "2024-01-15T09:40:10.650389Z",
     "iopub.status.busy": "2024-01-15T09:40:10.649858Z",
     "iopub.status.idle": "2024-01-15T09:40:10.654175Z",
     "shell.execute_reply": "2024-01-15T09:40:10.653271Z",
     "shell.execute_reply.started": "2024-01-15T09:40:10.650357Z"
    },
    "tags": []
   },
   "outputs": [],
   "source": [
    "import random\n",
    "import pandas as pd\n",
    "import datasets\n",
    "from IPython.display import display, HTML"
   ]
  },
  {
   "cell_type": "code",
   "execution_count": 5,
   "id": "675d70a2-a479-48c1-825d-ef3b43e3be79",
   "metadata": {
    "execution": {
     "iopub.execute_input": "2024-01-15T09:40:11.260574Z",
     "iopub.status.busy": "2024-01-15T09:40:11.259927Z",
     "iopub.status.idle": "2024-01-15T09:40:11.265906Z",
     "shell.execute_reply": "2024-01-15T09:40:11.265177Z",
     "shell.execute_reply.started": "2024-01-15T09:40:11.260542Z"
    },
    "tags": []
   },
   "outputs": [],
   "source": [
    "def show_random_elements(dataset, num_examples=10):\n",
    "    assert num_examples <= len(dataset), \"Can't pick more elements than there are in the dataset.\"\n",
    "    picks = []\n",
    "    for _ in range(num_examples):\n",
    "        pick = random.randint(0, len(dataset)-1)\n",
    "        while pick in picks:\n",
    "            pick = random.randint(0, len(dataset)-1)\n",
    "        picks.append(pick)\n",
    "    \n",
    "    df = pd.DataFrame(dataset[picks])\n",
    "    for column, typ in dataset.features.items():\n",
    "        if isinstance(typ, datasets.ClassLabel):\n",
    "            df[column] = df[column].transform(lambda i: typ.names[i])\n",
    "    display(HTML(df.to_html()))"
   ]
  },
  {
   "cell_type": "code",
   "execution_count": 6,
   "id": "26667a9e-1f56-4673-8f3d-9391f09df944",
   "metadata": {
    "execution": {
     "iopub.execute_input": "2024-01-15T09:40:12.611125Z",
     "iopub.status.busy": "2024-01-15T09:40:12.610479Z",
     "iopub.status.idle": "2024-01-15T09:40:12.625768Z",
     "shell.execute_reply": "2024-01-15T09:40:12.624982Z",
     "shell.execute_reply.started": "2024-01-15T09:40:12.611093Z"
    },
    "tags": []
   },
   "outputs": [
    {
     "data": {
      "text/html": [
       "<table border=\"1\" class=\"dataframe\">\n",
       "  <thead>\n",
       "    <tr style=\"text-align: right;\">\n",
       "      <th></th>\n",
       "      <th>label</th>\n",
       "      <th>text</th>\n",
       "    </tr>\n",
       "  </thead>\n",
       "  <tbody>\n",
       "    <tr>\n",
       "      <th>0</th>\n",
       "      <td>3 stars</td>\n",
       "      <td>The food is good, considering that this is Vegas where Vietnamese/Chinese food cannot compare to LA or OC.  They serve in one size and have relatively large portions.   \\n\\nService here is hit and miss.  Sometimes, you get really good waiters and sometimes, you just get those that gives you attitude.</td>\n",
       "    </tr>\n",
       "    <tr>\n",
       "      <th>1</th>\n",
       "      <td>3 stars</td>\n",
       "      <td>Definitely not for non meat eaters. We went for brunch so I just ordered some egg dish - I can't even remember what it was. \\n\\nHowever everyone else ordered chicken and waffles, mac and cheese and greens and was raving about it. That's all I have to say about that!</td>\n",
       "    </tr>\n",
       "    <tr>\n",
       "      <th>2</th>\n",
       "      <td>5 stars</td>\n",
       "      <td>This place is super awesome! The service was great! Very attentive! The food was absolutely on point. Order the shrimp fajitas and they were delicious! Drinks were amazing and at a reasonable price! Homemade tortillas were delicious! Ugh loved it here! Would highly recommend this restaurant to my friends!</td>\n",
       "    </tr>\n",
       "    <tr>\n",
       "      <th>3</th>\n",
       "      <td>2 star</td>\n",
       "      <td>I'm feeling a bit generous with this two star review. Both stars are basically for the fun layout and beautiful look of this club and the fact that we had a limited open bar until midnight. I've been to Encore Beach Club over half a dozen times and the staff has always been helpful and polite; apparently the same cannot be said for the night time hours when the space becomes Surrender. Took a group of seven girls here for a bachelorette and we were pretty poorly treated. After a night of being treated like royalty at Drai's, I left at like 11:30 because I was just tired of being treated like trash. A few tips- have the female host checking the guest list to make eye contact and not ignore large all girl groups (that's what you wanted in here), have your security not treat well behaved women like criminals, and have all your bartenders be consistent and helpful. You are NOT the nicest club in town anymore, Surrender. Maybe work for it a bit more.</td>\n",
       "    </tr>\n",
       "    <tr>\n",
       "      <th>4</th>\n",
       "      <td>2 star</td>\n",
       "      <td>2.5 stars because even our guys got in free!  It was on a Sat night. We arrived at around 1045p. Went straight to the Invited guest line which was only about a 5 min wait. The lady checked our names and then gave us pink tickets. Went down the escalator and to the entrance with ticket in hand and off we go. 2 girls and 2 guys, 50/50 ratio and we got in for free without much of a wait! Awesome!\\n\\nAs for the club itself...its alright. It is kinda like \\\"jet\\\" in that the layout doesnt really have a large dance floor. Stripper pole in the center and mainly a wide aisle around to dance. It was only about 11pm and alraedy it was super crowded! Its vegas...how could it be so crowded already?! Music was pretty good that night. Lots of bars, maybe 3. When you walk into club you have to take the stairs down to the dance floor otherwise you head up to the catwalk/upstairs area and see really how crowded the dance floor is!\\n\\nthe only good thing about that whole evening there was the fact we got our guys in for free.\\n\\nDrinks were expensive as usual! $18 for a grey goose on the rocks. We asked for a cranberry chaser on the side. \\n\\nThe crowd was mixed with average looking. I didn't like how crowded it was and how difficult it was to find a place to stand or even dance! \\n\\nWould I go again? Only if girls AND guys get in free and we pre party it up so we don't have to pay the ridiculous drink prices.</td>\n",
       "    </tr>\n",
       "    <tr>\n",
       "      <th>5</th>\n",
       "      <td>4 stars</td>\n",
       "      <td>This was my last meal before leaving the great city of Las Vegas. Some of the people in our group swore by it and I am so glad they made the recommendation. Like some of the other reviews, my only issue was the speed of service. But our waitress Patty was super cool and came back to check in on us pretty often.\\n\\nWould love to experience this place after a long night out on the Strip, maybe next trip...</td>\n",
       "    </tr>\n",
       "    <tr>\n",
       "      <th>6</th>\n",
       "      <td>4 stars</td>\n",
       "      <td>I was driving down Spring Mountain on my way home and decided to stop by Lee's for a quick milk tea, when I saw the sign for Fat Dumpling. I had never noticed this place pop up, so stopped in for a quick to go order. \\n\\nThey have a small dining area, but they can fit a sizable amount of tables for dine in guests. All the servers were really friendly and I was greeted quickly and politely by two when I walked in. One server told me they had only been open two days, so I was pleasantly surprised by how big a crowd of diners they had attracted. \\n\\nTheir menu is extensive. I noticed soup dumplings and got excited, but since I was doing takeout I knew that was a no-go. Next time for sure. I ended up with the pork and cabbage dumplings and a taro slush with boba. My dumplings came out first and were packaged well to go. I had hoped for some sauces or something, but I just used some stuff I had at home to dip them in. My taro slush wasn't amazing. It was a little on the thick side and too sweet. Not my favorite in town, but they have quite a few flavors, so I'd be interested in trying some of their less conventional flavors. \\n\\nI tried some dumplings as soon as I got home and they were good. Lots of meat and pretty flavorful. Not the best I've ever had, but solid and a huge portion for the price. They're a new spot, so I give them the benefit of the doubt and I look forward to trying a few more of their menu items in the future.</td>\n",
       "    </tr>\n",
       "    <tr>\n",
       "      <th>7</th>\n",
       "      <td>5 stars</td>\n",
       "      <td>BEST BREAKFAST IN LAS VEGAS. \\n\\nWe left and were so full, but felt energized - that feeling you get after eating WELL! We were ready to tackle the day in good old Vegas. Thanks SkinnyFats!</td>\n",
       "    </tr>\n",
       "    <tr>\n",
       "      <th>8</th>\n",
       "      <td>5 stars</td>\n",
       "      <td>Gorgeous, entertaining... and free. Holllerrrrrrrr.\\nThe Bellagio always updates the area for the different seasons, and from what I have observed, each time is always different. Every time I've visited, it's been unreal. Giant trees with twisted limbs like out of a Dr. Suess book... orbs of moving water.... bees made out of flowers... massive swans? Not to mention the aroma of fresh flowers that gives your poor nostrils a break from all the cigarette smoke of the casinos. It's beautiful during the day, but if you can stay sober enough to get there in the evening, wait till then... it's absolutely breathtaking.\\nIn my opinion, the Conservatory is a must-see for anyone in Vegas.</td>\n",
       "    </tr>\n",
       "    <tr>\n",
       "      <th>9</th>\n",
       "      <td>1 star</td>\n",
       "      <td>Waited almost an hour to get our food and then it was cold!!  Kitchen staff needs some organizational help.</td>\n",
       "    </tr>\n",
       "  </tbody>\n",
       "</table>"
      ],
      "text/plain": [
       "<IPython.core.display.HTML object>"
      ]
     },
     "metadata": {},
     "output_type": "display_data"
    }
   ],
   "source": [
    "show_random_elements(dataset[\"train\"])"
   ]
  },
  {
   "cell_type": "code",
   "execution_count": 7,
   "id": "db2c5f61-c1d3-42f2-973d-0055693d49a9",
   "metadata": {
    "ExecutionIndicator": {
     "show": true
    },
    "execution": {
     "iopub.execute_input": "2024-01-15T09:40:17.724447Z",
     "iopub.status.busy": "2024-01-15T09:40:17.723936Z",
     "iopub.status.idle": "2024-01-15T09:44:30.713363Z",
     "shell.execute_reply": "2024-01-15T09:44:30.712653Z",
     "shell.execute_reply.started": "2024-01-15T09:40:17.724418Z"
    },
    "tags": []
   },
   "outputs": [
    {
     "name": "stderr",
     "output_type": "stream",
     "text": [
      "Map: 100%|██████████| 650000/650000 [03:52<00:00, 2789.75 examples/s]\n",
      "Map: 100%|██████████| 50000/50000 [00:18<00:00, 2758.07 examples/s]\n"
     ]
    }
   ],
   "source": [
    "from transformers import AutoTokenizer\n",
    "\n",
    "tokenizer = AutoTokenizer.from_pretrained(\"/mnt/workspace/model/bert_base_cased\",local_files_only=True)\n",
    "\n",
    "\n",
    "def tokenize_function(examples):\n",
    "    return tokenizer(examples[\"text\"], padding=\"max_length\", truncation=True)\n",
    "\n",
    "\n",
    "tokenized_datasets = dataset.map(tokenize_function, batched=True)"
   ]
  },
  {
   "cell_type": "code",
   "execution_count": 8,
   "id": "86fd73e3-2b95-426c-9037-7018ad7550b6",
   "metadata": {
    "execution": {
     "iopub.execute_input": "2024-01-15T09:47:54.525520Z",
     "iopub.status.busy": "2024-01-15T09:47:54.524960Z",
     "iopub.status.idle": "2024-01-15T09:47:54.537762Z",
     "shell.execute_reply": "2024-01-15T09:47:54.536940Z",
     "shell.execute_reply.started": "2024-01-15T09:47:54.525489Z"
    },
    "tags": []
   },
   "outputs": [
    {
     "data": {
      "text/html": [
       "<table border=\"1\" class=\"dataframe\">\n",
       "  <thead>\n",
       "    <tr style=\"text-align: right;\">\n",
       "      <th></th>\n",
       "      <th>label</th>\n",
       "      <th>text</th>\n",
       "      <th>input_ids</th>\n",
       "      <th>token_type_ids</th>\n",
       "      <th>attention_mask</th>\n",
       "    </tr>\n",
       "  </thead>\n",
       "  <tbody>\n",
       "    <tr>\n",
       "      <th>0</th>\n",
       "      <td>5 stars</td>\n",
       "      <td>I am in nostalgic heaven right now! I really love these old diners and the ambiance they have! The food here is really good! We had the biscuits and gravy (fluffy and delicious with good flavor!), waffle combo (the waffles are awesome!!!), denver omelet and home fries (which are both worth having), and to top it off; a cinnamon roll! Holy cow!! We ate like kings, on not-a-king's budget!! 100% satisfaction!  :)</td>\n",
       "      <td>[101, 146, 1821, 1107, 1185, 19760, 11007, 9775, 1268, 1208, 106, 146, 1541, 1567, 1292, 1385, 20162, 1116, 1105, 1103, 1821, 12324, 2093, 1152, 1138, 106, 1109, 2094, 1303, 1110, 1541, 1363, 106, 1284, 1125, 1103, 16516, 1116, 10182, 6439, 1105, 176, 1611, 7170, 113, 23896, 12383, 1105, 13108, 1114, 1363, 16852, 106, 114, 117, 20049, 13327, 27481, 1186, 113, 1103, 20049, 25754, 1132, 14918, 106, 106, 106, 114, 117, 10552, 4121, 184, 10212, 2105, 1105, 1313, 175, 3377, 113, 1134, 1132, 1241, 3869, 1515, 114, 117, 1105, 1106, 1499, 1122, 1228, 132, 170, 172, 23339, 5155, 106, 3930, 13991, ...]</td>\n",
       "      <td>[0, 0, 0, 0, 0, 0, 0, 0, 0, 0, 0, 0, 0, 0, 0, 0, 0, 0, 0, 0, 0, 0, 0, 0, 0, 0, 0, 0, 0, 0, 0, 0, 0, 0, 0, 0, 0, 0, 0, 0, 0, 0, 0, 0, 0, 0, 0, 0, 0, 0, 0, 0, 0, 0, 0, 0, 0, 0, 0, 0, 0, 0, 0, 0, 0, 0, 0, 0, 0, 0, 0, 0, 0, 0, 0, 0, 0, 0, 0, 0, 0, 0, 0, 0, 0, 0, 0, 0, 0, 0, 0, 0, 0, 0, 0, 0, 0, 0, 0, 0, ...]</td>\n",
       "      <td>[1, 1, 1, 1, 1, 1, 1, 1, 1, 1, 1, 1, 1, 1, 1, 1, 1, 1, 1, 1, 1, 1, 1, 1, 1, 1, 1, 1, 1, 1, 1, 1, 1, 1, 1, 1, 1, 1, 1, 1, 1, 1, 1, 1, 1, 1, 1, 1, 1, 1, 1, 1, 1, 1, 1, 1, 1, 1, 1, 1, 1, 1, 1, 1, 1, 1, 1, 1, 1, 1, 1, 1, 1, 1, 1, 1, 1, 1, 1, 1, 1, 1, 1, 1, 1, 1, 1, 1, 1, 1, 1, 1, 1, 1, 1, 1, 1, 1, 1, 1, ...]</td>\n",
       "    </tr>\n",
       "  </tbody>\n",
       "</table>"
      ],
      "text/plain": [
       "<IPython.core.display.HTML object>"
      ]
     },
     "metadata": {},
     "output_type": "display_data"
    }
   ],
   "source": [
    "show_random_elements(tokenized_datasets[\"train\"], num_examples=1)"
   ]
  },
  {
   "cell_type": "code",
   "execution_count": 9,
   "id": "2e4afd86-4e53-4de9-bb64-3d29f2ac193c",
   "metadata": {
    "execution": {
     "iopub.execute_input": "2024-01-15T09:48:07.912821Z",
     "iopub.status.busy": "2024-01-15T09:48:07.912192Z",
     "iopub.status.idle": "2024-01-15T09:48:08.088913Z",
     "shell.execute_reply": "2024-01-15T09:48:08.088259Z",
     "shell.execute_reply.started": "2024-01-15T09:48:07.912792Z"
    },
    "tags": []
   },
   "outputs": [],
   "source": [
    "small_train_dataset = tokenized_datasets[\"train\"].shuffle(seed=42).select(range(1000))\n",
    "small_eval_dataset = tokenized_datasets[\"test\"].shuffle(seed=42).select(range(1000))"
   ]
  },
  {
   "cell_type": "code",
   "execution_count": 10,
   "id": "0ff0d03e-06ba-47b3-960d-1180e9d5c264",
   "metadata": {
    "execution": {
     "iopub.execute_input": "2024-01-15T09:48:10.038902Z",
     "iopub.status.busy": "2024-01-15T09:48:10.038044Z",
     "iopub.status.idle": "2024-01-15T09:48:11.123604Z",
     "shell.execute_reply": "2024-01-15T09:48:11.122626Z",
     "shell.execute_reply.started": "2024-01-15T09:48:10.038859Z"
    },
    "tags": []
   },
   "outputs": [],
   "source": [
    "from transformers import AutoModelForSequenceClassification\n",
    "\n",
    "model = AutoModelForSequenceClassification.from_pretrained(\"/mnt/workspace/model/bert_base_cased\",local_files_only=True, num_labels=5)"
   ]
  },
  {
   "cell_type": "code",
   "execution_count": 13,
   "id": "b41cd917-a8d4-4b2d-98af-32af2c16a178",
   "metadata": {
    "execution": {
     "iopub.execute_input": "2024-01-15T09:54:29.230842Z",
     "iopub.status.busy": "2024-01-15T09:54:29.230310Z",
     "iopub.status.idle": "2024-01-15T09:54:29.245866Z",
     "shell.execute_reply": "2024-01-15T09:54:29.245238Z",
     "shell.execute_reply.started": "2024-01-15T09:54:29.230814Z"
    },
    "tags": []
   },
   "outputs": [],
   "source": [
    "from transformers import TrainingArguments\n",
    "\n",
    "model_dir = \"models/bert-base-cased\"\n",
    "\n",
    "# logging_steps 默认值为500，根据我们的训练数据和步长，将其设置为100\n",
    "training_args = TrainingArguments(output_dir=f\"{model_dir}/test_trainer\",\n",
    "                                  logging_dir=f\"{model_dir}/test_trainer/runs\",\n",
    "                                  logging_steps=100)"
   ]
  },
  {
   "cell_type": "code",
   "execution_count": 11,
   "id": "853dd8e6-6ef7-4a00-b987-1bac544fdf21",
   "metadata": {
    "execution": {
     "iopub.execute_input": "2024-01-15T09:48:16.139475Z",
     "iopub.status.busy": "2024-01-15T09:48:16.138822Z",
     "iopub.status.idle": "2024-01-15T09:48:18.836996Z",
     "shell.execute_reply": "2024-01-15T09:48:18.836276Z",
     "shell.execute_reply.started": "2024-01-15T09:48:16.139447Z"
    },
    "tags": []
   },
   "outputs": [
    {
     "name": "stderr",
     "output_type": "stream",
     "text": [
      "2024-01-15 17:48:16.499455: I tensorflow/core/platform/cpu_feature_guard.cc:182] This TensorFlow binary is optimized to use available CPU instructions in performance-critical operations.\n",
      "To enable the following instructions: AVX2 AVX512F FMA, in other operations, rebuild TensorFlow with the appropriate compiler flags.\n",
      "2024-01-15 17:48:17.582300: W tensorflow/compiler/tf2tensorrt/utils/py_utils.cc:38] TF-TRT Warning: Could not find TensorRT\n"
     ]
    }
   ],
   "source": [
    "import numpy as np\n",
    "import evaluate\n",
    "\n",
    "metric = evaluate.load(\"/mnt/workspace/evaluate/metrics/accuracy\")"
   ]
  },
  {
   "cell_type": "code",
   "execution_count": 14,
   "id": "5ad8a296-d02c-4881-9751-95b8635782a2",
   "metadata": {
    "execution": {
     "iopub.execute_input": "2024-01-15T09:54:35.067803Z",
     "iopub.status.busy": "2024-01-15T09:54:35.067230Z",
     "iopub.status.idle": "2024-01-15T09:54:35.071706Z",
     "shell.execute_reply": "2024-01-15T09:54:35.071015Z",
     "shell.execute_reply.started": "2024-01-15T09:54:35.067772Z"
    },
    "tags": []
   },
   "outputs": [],
   "source": [
    "def compute_metrics(eval_pred):\n",
    "    logits, labels = eval_pred\n",
    "    predictions = np.argmax(logits, axis=-1)\n",
    "    return metric.compute(predictions=predictions, references=labels)"
   ]
  },
  {
   "cell_type": "code",
   "execution_count": 15,
   "id": "007c77fc-05e4-460a-a22d-4ced4fee38d6",
   "metadata": {
    "execution": {
     "iopub.execute_input": "2024-01-15T09:54:38.404412Z",
     "iopub.status.busy": "2024-01-15T09:54:38.403859Z",
     "iopub.status.idle": "2024-01-15T09:54:38.460500Z",
     "shell.execute_reply": "2024-01-15T09:54:38.459811Z",
     "shell.execute_reply.started": "2024-01-15T09:54:38.404384Z"
    },
    "tags": []
   },
   "outputs": [],
   "source": [
    "from transformers import TrainingArguments, Trainer\n",
    "\n",
    "training_args = TrainingArguments(output_dir=f\"{model_dir}/test_trainer\",\n",
    "                                  evaluation_strategy=\"epoch\", \n",
    "                                  logging_dir=f\"{model_dir}/test_trainer/runs\",\n",
    "                                  logging_steps=100)"
   ]
  },
  {
   "cell_type": "code",
   "execution_count": 24,
   "id": "76e6cc8a-ca9d-4227-9d20-329494ba47fd",
   "metadata": {
    "execution": {
     "iopub.execute_input": "2024-01-04T09:30:07.830485Z",
     "iopub.status.busy": "2024-01-04T09:30:07.829984Z",
     "iopub.status.idle": "2024-01-04T09:30:07.835980Z",
     "shell.execute_reply": "2024-01-04T09:30:07.835362Z",
     "shell.execute_reply.started": "2024-01-04T09:30:07.830453Z"
    }
   },
   "outputs": [
    {
     "data": {
      "text/plain": [
       "TrainingArguments(\n",
       "_n_gpu=1,\n",
       "adafactor=False,\n",
       "adam_beta1=0.9,\n",
       "adam_beta2=0.999,\n",
       "adam_epsilon=1e-08,\n",
       "auto_find_batch_size=False,\n",
       "bf16=False,\n",
       "bf16_full_eval=False,\n",
       "data_seed=None,\n",
       "dataloader_drop_last=False,\n",
       "dataloader_num_workers=0,\n",
       "dataloader_pin_memory=True,\n",
       "ddp_backend=None,\n",
       "ddp_broadcast_buffers=None,\n",
       "ddp_bucket_cap_mb=None,\n",
       "ddp_find_unused_parameters=None,\n",
       "ddp_timeout=1800,\n",
       "debug=[],\n",
       "deepspeed=None,\n",
       "disable_tqdm=False,\n",
       "dispatch_batches=None,\n",
       "do_eval=True,\n",
       "do_predict=False,\n",
       "do_train=False,\n",
       "eval_accumulation_steps=None,\n",
       "eval_delay=0,\n",
       "eval_steps=None,\n",
       "evaluation_strategy=epoch,\n",
       "fp16=False,\n",
       "fp16_backend=auto,\n",
       "fp16_full_eval=False,\n",
       "fp16_opt_level=O1,\n",
       "fsdp=[],\n",
       "fsdp_config={'min_num_params': 0, 'xla': False, 'xla_fsdp_grad_ckpt': False},\n",
       "fsdp_min_num_params=0,\n",
       "fsdp_transformer_layer_cls_to_wrap=None,\n",
       "full_determinism=False,\n",
       "gradient_accumulation_steps=1,\n",
       "gradient_checkpointing=False,\n",
       "greater_is_better=None,\n",
       "group_by_length=False,\n",
       "half_precision_backend=auto,\n",
       "hub_always_push=False,\n",
       "hub_model_id=None,\n",
       "hub_private_repo=False,\n",
       "hub_strategy=every_save,\n",
       "hub_token=<HUB_TOKEN>,\n",
       "ignore_data_skip=False,\n",
       "include_inputs_for_metrics=False,\n",
       "include_tokens_per_second=False,\n",
       "jit_mode_eval=False,\n",
       "label_names=None,\n",
       "label_smoothing_factor=0.0,\n",
       "learning_rate=5e-05,\n",
       "length_column_name=length,\n",
       "load_best_model_at_end=False,\n",
       "local_rank=0,\n",
       "log_level=passive,\n",
       "log_level_replica=warning,\n",
       "log_on_each_node=True,\n",
       "logging_dir=models/bert-base-cased/test_trainer/runs,\n",
       "logging_first_step=False,\n",
       "logging_nan_inf_filter=True,\n",
       "logging_steps=100,\n",
       "logging_strategy=steps,\n",
       "lr_scheduler_type=linear,\n",
       "max_grad_norm=1.0,\n",
       "max_steps=-1,\n",
       "metric_for_best_model=None,\n",
       "mp_parameters=,\n",
       "no_cuda=False,\n",
       "num_train_epochs=3.0,\n",
       "optim=adamw_torch,\n",
       "optim_args=None,\n",
       "output_dir=models/bert-base-cased/test_trainer,\n",
       "overwrite_output_dir=False,\n",
       "past_index=-1,\n",
       "per_device_eval_batch_size=8,\n",
       "per_device_train_batch_size=8,\n",
       "prediction_loss_only=False,\n",
       "push_to_hub=False,\n",
       "push_to_hub_model_id=None,\n",
       "push_to_hub_organization=None,\n",
       "push_to_hub_token=<PUSH_TO_HUB_TOKEN>,\n",
       "ray_scope=last,\n",
       "remove_unused_columns=True,\n",
       "report_to=['tensorboard'],\n",
       "resume_from_checkpoint=None,\n",
       "run_name=models/bert-base-cased/test_trainer,\n",
       "save_on_each_node=False,\n",
       "save_safetensors=False,\n",
       "save_steps=500,\n",
       "save_strategy=steps,\n",
       "save_total_limit=None,\n",
       "seed=42,\n",
       "sharded_ddp=[],\n",
       "skip_memory_metrics=True,\n",
       "tf32=None,\n",
       "torch_compile=False,\n",
       "torch_compile_backend=None,\n",
       "torch_compile_mode=None,\n",
       "torchdynamo=None,\n",
       "tpu_metrics_debug=False,\n",
       "tpu_num_cores=None,\n",
       "use_cpu=False,\n",
       "use_ipex=False,\n",
       "use_legacy_prediction_loop=False,\n",
       "use_mps_device=False,\n",
       "warmup_ratio=0.0,\n",
       "warmup_steps=0,\n",
       "weight_decay=0.0,\n",
       ")"
      ]
     },
     "execution_count": 24,
     "metadata": {},
     "output_type": "execute_result"
    }
   ],
   "source": [
    "training_args"
   ]
  },
  {
   "cell_type": "code",
   "execution_count": 16,
   "id": "9ce78f1b-b4ce-45fa-afc4-8d96844598bd",
   "metadata": {
    "execution": {
     "iopub.execute_input": "2024-01-15T09:54:48.319026Z",
     "iopub.status.busy": "2024-01-15T09:54:48.318384Z",
     "iopub.status.idle": "2024-01-15T09:54:52.598460Z",
     "shell.execute_reply": "2024-01-15T09:54:52.597745Z",
     "shell.execute_reply.started": "2024-01-15T09:54:48.318997Z"
    },
    "tags": []
   },
   "outputs": [
    {
     "name": "stderr",
     "output_type": "stream",
     "text": [
      "Detected kernel version 4.19.24, which is below the recommended minimum of 5.5.0; this can cause the process to hang. It is recommended to upgrade the kernel to the minimum version or higher.\n"
     ]
    }
   ],
   "source": [
    "trainer = Trainer(\n",
    "    model=model,\n",
    "    args=training_args,\n",
    "    train_dataset=small_train_dataset,\n",
    "    eval_dataset=small_eval_dataset,\n",
    "    compute_metrics=compute_metrics,\n",
    ")"
   ]
  },
  {
   "cell_type": "code",
   "execution_count": 17,
   "id": "c5404fc5-2280-4d2e-af1a-e9515eb4b5c2",
   "metadata": {
    "execution": {
     "iopub.execute_input": "2024-01-15T09:54:52.599929Z",
     "iopub.status.busy": "2024-01-15T09:54:52.599674Z",
     "iopub.status.idle": "2024-01-15T09:54:53.200064Z",
     "shell.execute_reply": "2024-01-15T09:54:53.199107Z",
     "shell.execute_reply.started": "2024-01-15T09:54:52.599907Z"
    },
    "tags": []
   },
   "outputs": [
    {
     "name": "stderr",
     "output_type": "stream",
     "text": [
      "huggingface/tokenizers: The current process just got forked, after parallelism has already been used. Disabling parallelism to avoid deadlocks...\n",
      "To disable this warning, you can either:\n",
      "\t- Avoid using `tokenizers` before the fork if possible\n",
      "\t- Explicitly set the environment variable TOKENIZERS_PARALLELISM=(true | false)\n"
     ]
    },
    {
     "name": "stdout",
     "output_type": "stream",
     "text": [
      "Mon Jan 15 17:54:53 2024       \n",
      "+-----------------------------------------------------------------------------+\n",
      "| NVIDIA-SMI 470.82.01    Driver Version: 470.82.01    CUDA Version: 11.4     |\n",
      "|-------------------------------+----------------------+----------------------+\n",
      "| GPU  Name        Persistence-M| Bus-Id        Disp.A | Volatile Uncorr. ECC |\n",
      "| Fan  Temp  Perf  Pwr:Usage/Cap|         Memory-Usage | GPU-Util  Compute M. |\n",
      "|                               |                      |               MIG M. |\n",
      "|===============================+======================+======================|\n",
      "|   0  Tesla V100-SXM2...  Off  | 00000000:00:09.0 Off |                    0 |\n",
      "| N/A   37C    P0    55W / 300W |   1461MiB / 16160MiB |      0%      Default |\n",
      "|                               |                      |                  N/A |\n",
      "+-------------------------------+----------------------+----------------------+\n",
      "                                                                               \n",
      "+-----------------------------------------------------------------------------+\n",
      "| Processes:                                                                  |\n",
      "|  GPU   GI   CI        PID   Type   Process name                  GPU Memory |\n",
      "|        ID   ID                                                   Usage      |\n",
      "|=============================================================================|\n",
      "+-----------------------------------------------------------------------------+\n"
     ]
    }
   ],
   "source": [
    "! nvidia-smi"
   ]
  },
  {
   "cell_type": "code",
   "execution_count": 21,
   "id": "2af6dcfc-0b9b-49d8-b225-4a5a7be59b52",
   "metadata": {
    "execution": {
     "iopub.execute_input": "2024-01-15T09:58:28.499654Z",
     "iopub.status.busy": "2024-01-15T09:58:28.499128Z",
     "iopub.status.idle": "2024-01-15T09:58:29.098010Z",
     "shell.execute_reply": "2024-01-15T09:58:29.097194Z",
     "shell.execute_reply.started": "2024-01-15T09:58:28.499626Z"
    },
    "tags": []
   },
   "outputs": [
    {
     "name": "stderr",
     "output_type": "stream",
     "text": [
      "huggingface/tokenizers: The current process just got forked, after parallelism has already been used. Disabling parallelism to avoid deadlocks...\n",
      "To disable this warning, you can either:\n",
      "\t- Avoid using `tokenizers` before the fork if possible\n",
      "\t- Explicitly set the environment variable TOKENIZERS_PARALLELISM=(true | false)\n"
     ]
    },
    {
     "name": "stdout",
     "output_type": "stream",
     "text": [
      "Mon Jan 15 17:58:28 2024       \n",
      "+-----------------------------------------------------------------------------+\n",
      "| NVIDIA-SMI 470.82.01    Driver Version: 470.82.01    CUDA Version: 11.4     |\n",
      "|-------------------------------+----------------------+----------------------+\n",
      "| GPU  Name        Persistence-M| Bus-Id        Disp.A | Volatile Uncorr. ECC |\n",
      "| Fan  Temp  Perf  Pwr:Usage/Cap|         Memory-Usage | GPU-Util  Compute M. |\n",
      "|                               |                      |               MIG M. |\n",
      "|===============================+======================+======================|\n",
      "|   0  Tesla V100-SXM2...  Off  | 00000000:00:09.0 Off |                    0 |\n",
      "| N/A   39C    P0    55W / 300W |   7761MiB / 16160MiB |      0%      Default |\n",
      "|                               |                      |                  N/A |\n",
      "+-------------------------------+----------------------+----------------------+\n",
      "                                                                               \n",
      "+-----------------------------------------------------------------------------+\n",
      "| Processes:                                                                  |\n",
      "|  GPU   GI   CI        PID   Type   Process name                  GPU Memory |\n",
      "|        ID   ID                                                   Usage      |\n",
      "|=============================================================================|\n",
      "+-----------------------------------------------------------------------------+\n"
     ]
    }
   ],
   "source": [
    "! nvidia-smi"
   ]
  },
  {
   "cell_type": "code",
   "execution_count": 18,
   "id": "7ea2a2ac-8886-4f97-9252-68f173c49407",
   "metadata": {
    "execution": {
     "iopub.execute_input": "2024-01-15T09:55:19.939919Z",
     "iopub.status.busy": "2024-01-15T09:55:19.939213Z",
     "iopub.status.idle": "2024-01-15T09:57:24.282283Z",
     "shell.execute_reply": "2024-01-15T09:57:24.281519Z",
     "shell.execute_reply.started": "2024-01-15T09:55:19.939887Z"
    },
    "tags": []
   },
   "outputs": [
    {
     "data": {
      "text/html": [
       "\n",
       "    <div>\n",
       "      \n",
       "      <progress value='375' max='375' style='width:300px; height:20px; vertical-align: middle;'></progress>\n",
       "      [375/375 02:02, Epoch 3/3]\n",
       "    </div>\n",
       "    <table border=\"1\" class=\"dataframe\">\n",
       "  <thead>\n",
       " <tr style=\"text-align: left;\">\n",
       "      <th>Epoch</th>\n",
       "      <th>Training Loss</th>\n",
       "      <th>Validation Loss</th>\n",
       "      <th>Accuracy</th>\n",
       "    </tr>\n",
       "  </thead>\n",
       "  <tbody>\n",
       "    <tr>\n",
       "      <td>1</td>\n",
       "      <td>0.833000</td>\n",
       "      <td>1.250888</td>\n",
       "      <td>0.529000</td>\n",
       "    </tr>\n",
       "    <tr>\n",
       "      <td>2</td>\n",
       "      <td>0.537800</td>\n",
       "      <td>1.406651</td>\n",
       "      <td>0.551000</td>\n",
       "    </tr>\n",
       "    <tr>\n",
       "      <td>3</td>\n",
       "      <td>0.402800</td>\n",
       "      <td>1.530191</td>\n",
       "      <td>0.578000</td>\n",
       "    </tr>\n",
       "  </tbody>\n",
       "</table><p>"
      ],
      "text/plain": [
       "<IPython.core.display.HTML object>"
      ]
     },
     "metadata": {},
     "output_type": "display_data"
    },
    {
     "data": {
      "text/plain": [
       "TrainOutput(global_step=375, training_loss=0.5285118408203126, metrics={'train_runtime': 123.9937, 'train_samples_per_second': 24.195, 'train_steps_per_second': 3.024, 'total_flos': 789354427392000.0, 'train_loss': 0.5285118408203126, 'epoch': 3.0})"
      ]
     },
     "execution_count": 18,
     "metadata": {},
     "output_type": "execute_result"
    }
   ],
   "source": [
    "trainer.train()"
   ]
  },
  {
   "cell_type": "code",
   "execution_count": 19,
   "id": "26e91114-72ab-4c1e-aef5-941342f51873",
   "metadata": {
    "execution": {
     "iopub.execute_input": "2024-01-04T08:55:09.690307Z",
     "iopub.status.busy": "2024-01-04T08:55:09.689775Z",
     "iopub.status.idle": "2024-01-04T08:57:16.279747Z",
     "shell.execute_reply": "2024-01-04T08:57:16.279074Z",
     "shell.execute_reply.started": "2024-01-04T08:55:09.690273Z"
    }
   },
   "outputs": [
    {
     "data": {
      "text/html": [
       "\n",
       "    <div>\n",
       "      \n",
       "      <progress value='375' max='375' style='width:300px; height:20px; vertical-align: middle;'></progress>\n",
       "      [375/375 02:04, Epoch 3/3]\n",
       "    </div>\n",
       "    <table border=\"1\" class=\"dataframe\">\n",
       "  <thead>\n",
       " <tr style=\"text-align: left;\">\n",
       "      <th>Epoch</th>\n",
       "      <th>Training Loss</th>\n",
       "      <th>Validation Loss</th>\n",
       "      <th>Accuracy</th>\n",
       "    </tr>\n",
       "  </thead>\n",
       "  <tbody>\n",
       "    <tr>\n",
       "      <td>1</td>\n",
       "      <td>0.833000</td>\n",
       "      <td>1.250888</td>\n",
       "      <td>0.529000</td>\n",
       "    </tr>\n",
       "    <tr>\n",
       "      <td>2</td>\n",
       "      <td>0.537800</td>\n",
       "      <td>1.406651</td>\n",
       "      <td>0.551000</td>\n",
       "    </tr>\n",
       "    <tr>\n",
       "      <td>3</td>\n",
       "      <td>0.402800</td>\n",
       "      <td>1.530191</td>\n",
       "      <td>0.578000</td>\n",
       "    </tr>\n",
       "  </tbody>\n",
       "</table><p>"
      ],
      "text/plain": [
       "<IPython.core.display.HTML object>"
      ]
     },
     "metadata": {},
     "output_type": "display_data"
    },
    {
     "data": {
      "text/plain": [
       "TrainOutput(global_step=375, training_loss=0.5285118408203126, metrics={'train_runtime': 126.1818, 'train_samples_per_second': 23.775, 'train_steps_per_second': 2.972, 'total_flos': 789354427392000.0, 'train_loss': 0.5285118408203126, 'epoch': 3.0})"
      ]
     },
     "execution_count": 19,
     "metadata": {},
     "output_type": "execute_result"
    }
   ],
   "source": [
    "trainer.train()"
   ]
  },
  {
   "cell_type": "code",
   "execution_count": 19,
   "id": "9ab13586-9daf-49f3-884f-c177c4aaec0d",
   "metadata": {
    "execution": {
     "iopub.execute_input": "2024-01-15T09:57:40.808421Z",
     "iopub.status.busy": "2024-01-15T09:57:40.807784Z",
     "iopub.status.idle": "2024-01-15T09:57:40.827833Z",
     "shell.execute_reply": "2024-01-15T09:57:40.827242Z",
     "shell.execute_reply.started": "2024-01-15T09:57:40.808393Z"
    },
    "tags": []
   },
   "outputs": [],
   "source": [
    "small_test_dataset = tokenized_datasets[\"test\"].shuffle(seed=64).select(range(100))"
   ]
  },
  {
   "cell_type": "code",
   "execution_count": 20,
   "id": "42af917b-f6f2-4e84-9b50-95d1c975a5c2",
   "metadata": {
    "execution": {
     "iopub.execute_input": "2024-01-15T09:57:47.518432Z",
     "iopub.status.busy": "2024-01-15T09:57:47.517901Z",
     "iopub.status.idle": "2024-01-15T09:57:48.600937Z",
     "shell.execute_reply": "2024-01-15T09:57:48.600260Z",
     "shell.execute_reply.started": "2024-01-15T09:57:47.518405Z"
    },
    "tags": []
   },
   "outputs": [
    {
     "data": {
      "text/html": [
       "\n",
       "    <div>\n",
       "      \n",
       "      <progress value='13' max='13' style='width:300px; height:20px; vertical-align: middle;'></progress>\n",
       "      [13/13 00:00]\n",
       "    </div>\n",
       "    "
      ],
      "text/plain": [
       "<IPython.core.display.HTML object>"
      ]
     },
     "metadata": {},
     "output_type": "display_data"
    },
    {
     "data": {
      "text/plain": [
       "{'eval_loss': 1.9284188747406006,\n",
       " 'eval_accuracy': 0.47,\n",
       " 'eval_runtime': 1.0732,\n",
       " 'eval_samples_per_second': 93.178,\n",
       " 'eval_steps_per_second': 12.113,\n",
       " 'epoch': 3.0}"
      ]
     },
     "execution_count": 20,
     "metadata": {},
     "output_type": "execute_result"
    }
   ],
   "source": [
    "trainer.evaluate(small_test_dataset)"
   ]
  },
  {
   "cell_type": "code",
   "execution_count": 21,
   "id": "6ed04abf-6181-489d-8316-f50475423b6c",
   "metadata": {
    "execution": {
     "iopub.execute_input": "2024-01-04T08:59:44.706506Z",
     "iopub.status.busy": "2024-01-04T08:59:44.705997Z",
     "iopub.status.idle": "2024-01-04T08:59:45.800960Z",
     "shell.execute_reply": "2024-01-04T08:59:45.800324Z",
     "shell.execute_reply.started": "2024-01-04T08:59:44.706476Z"
    }
   },
   "outputs": [
    {
     "data": {
      "text/html": [
       "\n",
       "    <div>\n",
       "      \n",
       "      <progress value='13' max='13' style='width:300px; height:20px; vertical-align: middle;'></progress>\n",
       "      [13/13 00:00]\n",
       "    </div>\n",
       "    "
      ],
      "text/plain": [
       "<IPython.core.display.HTML object>"
      ]
     },
     "metadata": {},
     "output_type": "display_data"
    },
    {
     "data": {
      "text/plain": [
       "{'eval_loss': 1.9284188747406006,\n",
       " 'eval_accuracy': 0.47,\n",
       " 'eval_runtime': 1.0854,\n",
       " 'eval_samples_per_second': 92.132,\n",
       " 'eval_steps_per_second': 11.977,\n",
       " 'epoch': 3.0}"
      ]
     },
     "execution_count": 21,
     "metadata": {},
     "output_type": "execute_result"
    }
   ],
   "source": [
    "trainer.evaluate(small_test_dataset)"
   ]
  },
  {
   "cell_type": "code",
   "execution_count": 22,
   "id": "60e6eb5c-bd98-44f0-8f0c-2676d45a6866",
   "metadata": {
    "execution": {
     "iopub.execute_input": "2024-01-04T09:00:15.904203Z",
     "iopub.status.busy": "2024-01-04T09:00:15.903699Z",
     "iopub.status.idle": "2024-01-04T09:00:16.545612Z",
     "shell.execute_reply": "2024-01-04T09:00:16.544750Z",
     "shell.execute_reply.started": "2024-01-04T09:00:15.904167Z"
    }
   },
   "outputs": [],
   "source": [
    "trainer.save_model(f\"{model_dir}/finetuned-trainer\")"
   ]
  },
  {
   "cell_type": "code",
   "execution_count": 23,
   "id": "b44e050a-a137-4f6d-b98a-f325d769cc21",
   "metadata": {
    "execution": {
     "iopub.execute_input": "2024-01-04T09:00:22.412970Z",
     "iopub.status.busy": "2024-01-04T09:00:22.412498Z",
     "iopub.status.idle": "2024-01-04T09:00:22.417227Z",
     "shell.execute_reply": "2024-01-04T09:00:22.416601Z",
     "shell.execute_reply.started": "2024-01-04T09:00:22.412939Z"
    }
   },
   "outputs": [],
   "source": [
    "trainer.save_state()"
   ]
  }
 ],
 "metadata": {
  "kernelspec": {
   "display_name": "trans",
   "language": "python",
   "name": "trans"
  },
  "language_info": {
   "codemirror_mode": {
    "name": "ipython",
    "version": 3
   },
   "file_extension": ".py",
   "mimetype": "text/x-python",
   "name": "python",
   "nbconvert_exporter": "python",
   "pygments_lexer": "ipython3",
   "version": "3.11.7"
  }
 },
 "nbformat": 4,
 "nbformat_minor": 5
}

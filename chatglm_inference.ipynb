{
 "cells": [
  {
   "cell_type": "code",
   "execution_count": 1,
   "id": "bf3cb7c4-300c-48c9-b2bb-524027fe0d76",
   "metadata": {
    "execution": {
     "iopub.execute_input": "2024-02-07T17:36:36.432559Z",
     "iopub.status.busy": "2024-02-07T17:36:36.432050Z",
     "iopub.status.idle": "2024-02-07T17:36:38.377296Z",
     "shell.execute_reply": "2024-02-07T17:36:38.376564Z",
     "shell.execute_reply.started": "2024-02-07T17:36:36.432528Z"
    },
    "tags": []
   },
   "outputs": [
    {
     "name": "stderr",
     "output_type": "stream",
     "text": [
      "/opt/conda/lib/python3.8/site-packages/tqdm/auto.py:21: TqdmWarning: IProgress not found. Please update jupyter and ipywidgets. See https://ipywidgets.readthedocs.io/en/stable/user_install.html\n",
      "  from .autonotebook import tqdm as notebook_tqdm\n"
     ]
    }
   ],
   "source": [
    "import torch\n",
    "from transformers import AutoModel, AutoTokenizer, BitsAndBytesConfig\n",
    "\n",
    "# 模型ID或本地路径\n",
    "model_name_or_path = '/mnt/workspace/chatglm3-6b'"
   ]
  },
  {
   "cell_type": "code",
   "execution_count": 2,
   "id": "5fd108a2-07a1-415c-b5f8-eba70572838f",
   "metadata": {
    "execution": {
     "iopub.execute_input": "2024-02-07T17:36:41.644701Z",
     "iopub.status.busy": "2024-02-07T17:36:41.643597Z",
     "iopub.status.idle": "2024-02-07T17:36:54.581756Z",
     "shell.execute_reply": "2024-02-07T17:36:54.580985Z",
     "shell.execute_reply.started": "2024-02-07T17:36:41.644658Z"
    },
    "tags": []
   },
   "outputs": [
    {
     "name": "stderr",
     "output_type": "stream",
     "text": [
      "Loading checkpoint shards: 100%|██████████| 7/7 [00:04<00:00,  1.57it/s]\n"
     ]
    }
   ],
   "source": [
    "_compute_dtype_map = {\n",
    "    'fp32': torch.float32,\n",
    "    'fp16': torch.float16,\n",
    "    'bf16': torch.bfloat16\n",
    "}\n",
    "\n",
    "# QLoRA 量化配置\n",
    "q_config = BitsAndBytesConfig(load_in_4bit=True,\n",
    "                              bnb_4bit_quant_type='nf4',\n",
    "                              bnb_4bit_use_double_quant=True,\n",
    "                              bnb_4bit_compute_dtype=_compute_dtype_map['bf16'])\n",
    "# 加载量化后模型\n",
    "base_model = AutoModel.from_pretrained(model_name_or_path,\n",
    "                                  quantization_config=q_config,\n",
    "                                  device_map='auto',\n",
    "                                  trust_remote_code=True)"
   ]
  },
  {
   "cell_type": "code",
   "execution_count": 3,
   "id": "6f520a98-a07d-4e3e-b60b-5500cd9e5f8f",
   "metadata": {
    "execution": {
     "iopub.execute_input": "2024-02-07T17:36:58.588009Z",
     "iopub.status.busy": "2024-02-07T17:36:58.587321Z",
     "iopub.status.idle": "2024-02-07T17:36:58.599862Z",
     "shell.execute_reply": "2024-02-07T17:36:58.599196Z",
     "shell.execute_reply.started": "2024-02-07T17:36:58.587974Z"
    },
    "tags": []
   },
   "outputs": [
    {
     "data": {
      "text/plain": [
       "ChatGLMForConditionalGeneration(\n",
       "  (transformer): ChatGLMModel(\n",
       "    (embedding): Embedding(\n",
       "      (word_embeddings): Embedding(65024, 4096)\n",
       "    )\n",
       "    (rotary_pos_emb): RotaryEmbedding()\n",
       "    (encoder): GLMTransformer(\n",
       "      (layers): ModuleList(\n",
       "        (0-27): 28 x GLMBlock(\n",
       "          (input_layernorm): RMSNorm()\n",
       "          (self_attention): SelfAttention(\n",
       "            (query_key_value): Linear4bit(in_features=4096, out_features=4608, bias=True)\n",
       "            (core_attention): CoreAttention(\n",
       "              (attention_dropout): Dropout(p=0.0, inplace=False)\n",
       "            )\n",
       "            (dense): Linear4bit(in_features=4096, out_features=4096, bias=False)\n",
       "          )\n",
       "          (post_attention_layernorm): RMSNorm()\n",
       "          (mlp): MLP(\n",
       "            (dense_h_to_4h): Linear4bit(in_features=4096, out_features=27392, bias=False)\n",
       "            (dense_4h_to_h): Linear4bit(in_features=13696, out_features=4096, bias=False)\n",
       "          )\n",
       "        )\n",
       "      )\n",
       "      (final_layernorm): RMSNorm()\n",
       "    )\n",
       "    (output_layer): Linear(in_features=4096, out_features=65024, bias=False)\n",
       "  )\n",
       ")"
      ]
     },
     "execution_count": 3,
     "metadata": {},
     "output_type": "execute_result"
    }
   ],
   "source": [
    "base_model.requires_grad_(False)\n",
    "base_model.eval()"
   ]
  },
  {
   "cell_type": "code",
   "execution_count": 4,
   "id": "8c42ccb1-f082-406d-9856-6193bd36b9cc",
   "metadata": {
    "execution": {
     "iopub.execute_input": "2024-02-07T17:37:04.001010Z",
     "iopub.status.busy": "2024-02-07T17:37:04.000506Z",
     "iopub.status.idle": "2024-02-07T17:37:04.042758Z",
     "shell.execute_reply": "2024-02-07T17:37:04.042013Z",
     "shell.execute_reply.started": "2024-02-07T17:37:04.000980Z"
    },
    "tags": []
   },
   "outputs": [],
   "source": [
    "tokenizer = AutoTokenizer.from_pretrained(model_name_or_path, trust_remote_code=True)"
   ]
  },
  {
   "cell_type": "markdown",
   "id": "e00e1832-0732-486b-83ea-c12714ed2094",
   "metadata": {},
   "source": [
    "## 使用微调前 ChatGLM3"
   ]
  },
  {
   "cell_type": "code",
   "execution_count": 5,
   "id": "e60aea6f-6dba-4119-b258-cf1c107287db",
   "metadata": {
    "ExecutionIndicator": {
     "show": false
    },
    "execution": {
     "iopub.execute_input": "2024-02-07T17:37:10.537882Z",
     "iopub.status.busy": "2024-02-07T17:37:10.537206Z",
     "iopub.status.idle": "2024-02-07T17:37:10.542842Z",
     "shell.execute_reply": "2024-02-07T17:37:10.541793Z",
     "shell.execute_reply.started": "2024-02-07T17:37:10.537830Z"
    },
    "tags": []
   },
   "outputs": [],
   "source": [
    "input_text = \"解释下乾卦是什么？\""
   ]
  },
  {
   "cell_type": "code",
   "execution_count": 6,
   "id": "b5ee71d5-6970-478e-8bb0-b187e9fb21f2",
   "metadata": {
    "ExecutionIndicator": {
     "show": true
    },
    "execution": {
     "iopub.execute_input": "2024-02-07T17:37:30.285578Z",
     "iopub.status.busy": "2024-02-07T17:37:30.285031Z",
     "iopub.status.idle": "2024-02-07T17:37:47.005441Z",
     "shell.execute_reply": "2024-02-07T17:37:47.004609Z",
     "shell.execute_reply.started": "2024-02-07T17:37:30.285544Z"
    },
    "tags": []
   },
   "outputs": [
    {
     "name": "stderr",
     "output_type": "stream",
     "text": [
      "2024-02-08 01:37:32.429318: I tensorflow/core/platform/cpu_feature_guard.cc:182] This TensorFlow binary is optimized to use available CPU instructions in performance-critical operations.\n",
      "To enable the following instructions: AVX2 AVX512F FMA, in other operations, rebuild TensorFlow with the appropriate compiler flags.\n",
      "2024-02-08 01:37:33.339538: W tensorflow/compiler/tf2tensorrt/utils/py_utils.cc:38] TF-TRT Warning: Could not find TensorRT\n"
     ]
    }
   ],
   "source": [
    "response, history = base_model.chat(tokenizer, query=input_text)"
   ]
  },
  {
   "cell_type": "code",
   "execution_count": 7,
   "id": "20d6c84e-f936-452d-a4cc-41d324e9d721",
   "metadata": {
    "execution": {
     "iopub.execute_input": "2024-02-07T17:37:49.043022Z",
     "iopub.status.busy": "2024-02-07T17:37:49.042230Z",
     "iopub.status.idle": "2024-02-07T17:37:49.047327Z",
     "shell.execute_reply": "2024-02-07T17:37:49.046488Z",
     "shell.execute_reply.started": "2024-02-07T17:37:49.042986Z"
    }
   },
   "outputs": [
    {
     "name": "stdout",
     "output_type": "stream",
     "text": [
      "乾卦是《易经》中的一个卦象，它是由两个阴爻夹一个阳爻构成，象征着天、干燥、强盛、积极、刚健等特质。乾卦的卦辞为：“元亨，利见大人。”意味着这个卦象具有向上的能量和创造力，预示着事物的发展将充满活力和希望。\n",
      "\n",
      "乾卦的六爻分别代表不同的阶段和含义。从下至上，分别为：初爻、二爻、三爻、四爻、五爻和上爻。每一爻的阳爻代表阳刚之气，阴爻代表阴柔之气。通过六爻的组合，乾卦展示了事物发展变化的规律。\n",
      "\n",
      "乾卦的动态变化象征着阳刚之气和阴柔之气的相互作用，提醒人们在面对事物时要保持中庸之道，即不要过于刚烈，也不要过于柔弱。同时，乾卦还告诉我们，事物的发展是不断变化的，要善于适应和调整，才能达到和谐的状态。\n"
     ]
    }
   ],
   "source": [
    "print(response)"
   ]
  },
  {
   "cell_type": "code",
   "execution_count": 8,
   "id": "d1284e47-12d6-4697-a6b9-f91056748af4",
   "metadata": {
    "execution": {
     "iopub.execute_input": "2024-02-07T17:37:59.829587Z",
     "iopub.status.busy": "2024-02-07T17:37:59.829057Z",
     "iopub.status.idle": "2024-02-07T17:38:11.292942Z",
     "shell.execute_reply": "2024-02-07T17:38:11.291863Z",
     "shell.execute_reply.started": "2024-02-07T17:37:59.829556Z"
    },
    "tags": []
   },
   "outputs": [
    {
     "name": "stdout",
     "output_type": "stream",
     "text": [
      "地水师卦是《易经》中的一个卦象，由两个阴爻夹一个阳爻构成，象征着地、水、智、勇等特质。它的卦辞为：“元、亨，利、利见大人。”意味着这个卦象具有向下的能量和创造力，预示着事物的发展将充满智慧和希望。\n",
      "\n",
      "地水师卦的六爻分别代表不同的阶段和含义。从下至上，分别为：初爻、二爻、三爻、四爻、五爻和上爻。每一爻的阳爻代表阳刚之气，阴爻代表阴柔之气。通过六爻的组合，地水师卦展示了事物发展变化的规律。\n",
      "\n",
      "地水师卦的动态变化象征着阳刚之气和阴柔之气的相互作用，提醒人们在面对事物时要保持中庸之道，即不要过于刚烈，也不要过于柔弱。同时，地水师卦还告诉我们，事物的发展是不断变化的，要善于适应和调整，才能达到和谐的状态。\n"
     ]
    }
   ],
   "source": [
    "response, history = base_model.chat(tokenizer, query=\"地水师卦是什么？\", history=history)\n",
    "print(response)"
   ]
  },
  {
   "cell_type": "markdown",
   "id": "eb558924-65d0-4628-8335-a3fffe41ad50",
   "metadata": {},
   "source": [
    "## 微调后"
   ]
  },
  {
   "cell_type": "code",
   "execution_count": 9,
   "id": "56e9bedf-7ba3-458b-af00-038025b84b99",
   "metadata": {
    "execution": {
     "iopub.execute_input": "2024-02-07T17:38:35.120943Z",
     "iopub.status.busy": "2024-02-07T17:38:35.120417Z",
     "iopub.status.idle": "2024-02-07T17:38:40.275848Z",
     "shell.execute_reply": "2024-02-07T17:38:40.274792Z",
     "shell.execute_reply.started": "2024-02-07T17:38:35.120911Z"
    },
    "tags": []
   },
   "outputs": [],
   "source": [
    "from peft import PeftModel, PeftConfig\n",
    "\n",
    "peft_model_path = f\"/mnt/workspace/models/chatglm3-6b-epoch3-20240207_165140\"\n",
    "\n",
    "config = PeftConfig.from_pretrained(peft_model_path)\n",
    "model = PeftModel.from_pretrained(base_model, peft_model_path)"
   ]
  },
  {
   "cell_type": "code",
   "execution_count": 10,
   "id": "dc973a54-15e9-4f9b-b343-eb12030b2b12",
   "metadata": {
    "execution": {
     "iopub.execute_input": "2024-02-07T17:38:42.853766Z",
     "iopub.status.busy": "2024-02-07T17:38:42.852859Z",
     "iopub.status.idle": "2024-02-07T17:38:55.818280Z",
     "shell.execute_reply": "2024-02-07T17:38:55.817514Z",
     "shell.execute_reply.started": "2024-02-07T17:38:42.853725Z"
    },
    "tags": []
   },
   "outputs": [],
   "source": [
    "inputs = tokenizer(input_text, return_tensors=\"pt\").to(0)\n",
    "ft_out = model.generate(**inputs, max_new_tokens=512)\n",
    "ft_response = tokenizer.decode(ft_out[0], skip_special_tokens=True)"
   ]
  },
  {
   "cell_type": "code",
   "execution_count": 11,
   "id": "64f8381a-1650-4cd6-9337-f3043d0b47cc",
   "metadata": {
    "execution": {
     "iopub.execute_input": "2024-02-07T17:38:58.998776Z",
     "iopub.status.busy": "2024-02-07T17:38:58.998249Z",
     "iopub.status.idle": "2024-02-07T17:38:59.003892Z",
     "shell.execute_reply": "2024-02-07T17:38:59.003162Z",
     "shell.execute_reply.started": "2024-02-07T17:38:58.998742Z"
    }
   },
   "outputs": [],
   "source": [
    "def compare_chatglm_results(query):\n",
    "    base_response, base_history = base_model.chat(tokenizer, query)\n",
    "\n",
    "    inputs = tokenizer(query, return_tensors=\"pt\").to(0)\n",
    "    ft_out = model.generate(**inputs, max_new_tokens=512)\n",
    "    ft_response = tokenizer.decode(ft_out[0], skip_special_tokens=True)\n",
    "    \n",
    "    print(f\"问题：{query}\\n\\n原始输出：\\n{base_response}\\n\\n\\nChatGLM3-6B微调后：\\n{ft_response}\")\n",
    "    return base_response, ft_response"
   ]
  },
  {
   "cell_type": "code",
   "execution_count": 12,
   "id": "0e5f87fe-652e-44d0-abda-81ec83451e72",
   "metadata": {
    "execution": {
     "iopub.execute_input": "2024-02-07T17:39:03.367681Z",
     "iopub.status.busy": "2024-02-07T17:39:03.367147Z",
     "iopub.status.idle": "2024-02-07T17:39:31.405889Z",
     "shell.execute_reply": "2024-02-07T17:39:31.405018Z",
     "shell.execute_reply.started": "2024-02-07T17:39:03.367647Z"
    },
    "tags": []
   },
   "outputs": [
    {
     "name": "stdout",
     "output_type": "stream",
     "text": [
      "问题：解释下乾卦是什么？\n",
      "\n",
      "原始输出：\n",
      "乾卦是周易中的一卦，由两个乾卦叠加而成，代表刚健、健行、刚健不屈的意境。在周易中，它是阳卦，代表君子品性，也象征着君子行事刚健、正直、勇敢。乾卦的卦象是由六个阳爻组成的，它代表天宇广阔，掌握着宇宙间的一切。乾卦的核心哲学是：君子观此卦象，从而以刚健、健行、不屈的精神行事。\n",
      "\n",
      "乾卦的核心哲学在于天行健，君子观此卦象，从而以天为榜样，实行刚健、健行、不屈的精神。在事业上，乾卦提示着行事刚健、正直、勇敢，不屈不挠，勇于接受挑战，得险为夷。在经商中，乾卦提醒着实施计划，坚定不移，勇于承担风险，刚健不屈，从而获得成功。在感情方面，乾卦强调刚健、忠诚、正直，交往中要求刚健、忠诚、正直，从而获得他人的尊敬和信任。\n",
      "\n",
      "总体而言，乾卦是一个正面的卦象，它提示着君子行事刚健、正直、勇敢，不屈不挠，得险为夷，得志忘形。\n",
      "\n",
      "\n",
      "ChatGLM3-6B微调后：\n",
      "[gMASK]sop 解释下乾卦是什么？ 在周易中，乾卦是六十四卦之首，由六个阳爻组成，象征着天。它所代表的是刚健、健行、刚健不屈的意境。乾卦的核心哲学是：天道刚健，运行不已，君子观此卦象，从而以天为法，自强不息。\n",
      "\n",
      "乾卦象征天，为大通而至正。得此卦者，名利双收，应把握机会，争取成果。然而，切勿过于骄傲自满，而应保持谦逊、冷静和警惕。在事业、经商、求名等方面，乾卦皆暗示着大吉大利，但也警示着必须坚持正道、修养德行，方能永远亨通。\n",
      "\n",
      "在婚恋方面，乾卦提示着阳盛阴衰，但也强调刚柔相济，相互补足，形成美满的结果。在决策方面，则是强调刚健、正直、公允，自强不息的实质，需要修养德行、坚定信念，方能克服困难，消除灾难。\n"
     ]
    }
   ],
   "source": [
    "base_response, ft_response = compare_chatglm_results(query=\"解释下乾卦是什么？\")"
   ]
  },
  {
   "cell_type": "code",
   "execution_count": 13,
   "id": "2bde582b-3f52-4943-85ea-3fee2213c7ef",
   "metadata": {
    "execution": {
     "iopub.execute_input": "2024-02-07T17:39:56.600998Z",
     "iopub.status.busy": "2024-02-07T17:39:56.600488Z",
     "iopub.status.idle": "2024-02-07T17:40:20.546854Z",
     "shell.execute_reply": "2024-02-07T17:40:20.545998Z",
     "shell.execute_reply.started": "2024-02-07T17:39:56.600966Z"
    }
   },
   "outputs": [
    {
     "name": "stdout",
     "output_type": "stream",
     "text": [
      "问题：地水师卦是什么？\n",
      "\n",
      "原始输出：\n",
      "地水师卦是一个由卦象组成的卦名，在周易中，它是由两个卦相组合而成，即坤卦（地）和坎卦（水）。这一卦的主要含义是：柔顺地，顺和地，地 nao 卦。根据《易经》，这一卦代表着预测吉凶可卜。地水师卦象征着地中有水，地保存着水分，预示着君子应当适应环境，顺应自然，掌握技巧，必然吉顺。\n",
      "\n",
      "地水师卦的形成原因是：地雷卦（雷卦）下，坎卦上。雷卦象征着雷电，代表着力量和刚毅，而坎卦代表着智慧、预测。在这卦中，地象征大吉，雷象征吉祥，而卦象组合 indicative of大吉。因此，地水师卦整体上象征着大吉，但需谨慎行事，顺应自然，方能取得吉祥。\n",
      "\n",
      "\n",
      "ChatGLM3-6B微调后：\n",
      "[gMASK]sop 地水师卦是什么？ 您说的地水师卦可能是指“地水师卦”，其由卦象组合而成。在这个卦中，下卦是乾卦，上卦是坤卦。乾卦代表天，象征刚健，坤卦则代表地，象征顺从。组合起来，代表地天相融，形成一种和谐的氛围。地水师卦象征着吉祥，预示着吉祥如意，有吉祥之象。\n",
      "\n",
      "地水师卦的卦辞这样描述：“天动于地，名曰地水师卦。吉，吉利如意，有吉祥之象。梗塞之疾，忧愁之极，莫测其忧，必须坚忍，方能成功。宜坚忍，忍耐，宜速行。 \"\n",
      "\n",
      "地水师卦是一个吉祥的卦象，但也要根据实际情况和努力方向来判断。如果求得吉祥如意的结果，需要坚忍忍耐，如果能够妥善处理事务，那么便能够获得吉利。\n"
     ]
    }
   ],
   "source": [
    "base_response, ft_response = compare_chatglm_results(query=\"地水师卦是什么？\")"
   ]
  },
  {
   "cell_type": "code",
   "execution_count": 14,
   "id": "c415f6b2-e0b1-4ef7-afad-430aff774efe",
   "metadata": {
    "execution": {
     "iopub.execute_input": "2024-02-07T17:41:44.160312Z",
     "iopub.status.busy": "2024-02-07T17:41:44.159765Z",
     "iopub.status.idle": "2024-02-07T17:41:44.813808Z",
     "shell.execute_reply": "2024-02-07T17:41:44.812888Z",
     "shell.execute_reply.started": "2024-02-07T17:41:44.160276Z"
    },
    "tags": []
   },
   "outputs": [
    {
     "name": "stdout",
     "output_type": "stream",
     "text": [
      "Thu Feb  8 01:41:44 2024       \n",
      "+-----------------------------------------------------------------------------+\n",
      "| NVIDIA-SMI 470.82.01    Driver Version: 470.82.01    CUDA Version: 11.8     |\n",
      "|-------------------------------+----------------------+----------------------+\n",
      "| GPU  Name        Persistence-M| Bus-Id        Disp.A | Volatile Uncorr. ECC |\n",
      "| Fan  Temp  Perf  Pwr:Usage/Cap|         Memory-Usage | GPU-Util  Compute M. |\n",
      "|                               |                      |               MIG M. |\n",
      "|===============================+======================+======================|\n",
      "|   0  Tesla V100-SXM2...  Off  | 00000000:00:08.0 Off |                    0 |\n",
      "| N/A   36C    P0    55W / 300W |   5748MiB / 16160MiB |      0%      Default |\n",
      "|                               |                      |                  N/A |\n",
      "+-------------------------------+----------------------+----------------------+\n",
      "                                                                               \n",
      "+-----------------------------------------------------------------------------+\n",
      "| Processes:                                                                  |\n",
      "|  GPU   GI   CI        PID   Type   Process name                  GPU Memory |\n",
      "|        ID   ID                                                   Usage      |\n",
      "|=============================================================================|\n",
      "+-----------------------------------------------------------------------------+\n"
     ]
    }
   ],
   "source": [
    "! nvidia-smi"
   ]
  },
  {
   "cell_type": "code",
   "execution_count": null,
   "id": "51b6c3e7-f5e2-4f1d-b8d1-3358cafece84",
   "metadata": {},
   "outputs": [],
   "source": []
  }
 ],
 "metadata": {
  "kernelspec": {
   "display_name": "Python 3 (ipykernel)",
   "language": "python",
   "name": "python3"
  },
  "language_info": {
   "codemirror_mode": {
    "name": "ipython",
    "version": 3
   },
   "file_extension": ".py",
   "mimetype": "text/x-python",
   "name": "python",
   "nbconvert_exporter": "python",
   "pygments_lexer": "ipython3",
   "version": "3.8.16"
  }
 },
 "nbformat": 4,
 "nbformat_minor": 5
}
